{
 "cells": [
  {
   "cell_type": "markdown",
   "metadata": {},
   "source": [
    "# `Arya Chakraborty `\n",
    "- 22MSD7020\n",
    "- VIT-AP\n",
    "- [Gmail](aryachakraborty.official@gmail.com)"
   ]
  },
  {
   "cell_type": "markdown",
   "metadata": {},
   "source": [
    "# `CIPLA stock Price Prediction Modelling using the following Models`\n",
    "- `ARMA`\n",
    "- `ARMA-ANN`\n",
    "- `GARCH`\n",
    "- `ARMA-GARCH`\n",
    "- `ARMA-GARCH-ANN`\n",
    "- `FUZZY CLUSTERING-ARMA`\n",
    "- `L.S.T.M`"
   ]
  },
  {
   "cell_type": "markdown",
   "metadata": {},
   "source": [
    "> ## `Importing required libraries`"
   ]
  },
  {
   "cell_type": "code",
   "execution_count": 14,
   "metadata": {},
   "outputs": [],
   "source": [
    "import pandas as pd\n",
    "import numpy as np\n",
    "import matplotlib.pyplot as plt\n",
    "import seaborn as sns\n",
    "from statsmodels.tsa.stattools import adfuller\n",
    "\n",
    "import statsmodels.api as sm                            # For ARIMA/ARMA/SARIMAX Modelling\n",
    "from pmdarima.arima import auto_arima\n",
    "from statsmodels.tsa.statespace.sarimax import SARIMAX\n",
    " \n",
    "from pandas_datareader import data as pdr               # For fetching the Data from YahooFinance\n",
    "import yfinance as yfin\n",
    "yfin.pdr_override()\n",
    "\n",
    "from sklearn.model_selection import train_test_split\n",
    "from sklearn.preprocessing import StandardScaler\n",
    "\n",
    "from tensorflow import keras                            # For LSTM Modelling\n",
    "from tensorflow.keras.models import Sequential\n",
    "from tensorflow.keras.layers import Dense\n",
    "from tensorflow.keras import layers\n",
    "\n",
    "import arch                                             # For AARCH/GARCH Modelling\n",
    "\n",
    "import skfuzzy as fuzz                                  # For FUZZY Clustering\n",
    "from sklearn.cluster import KMeans\n",
    "\n",
    "from sklearn.metrics import mean_squared_error, mean_absolute_error # Error Metrices# Error Metrices\n"
   ]
  },
  {
   "cell_type": "markdown",
   "metadata": {},
   "source": [
    "## `Collecting the Data` "
   ]
  },
  {
   "cell_type": "code",
   "execution_count": 2,
   "metadata": {},
   "outputs": [
    {
     "name": "stdout",
     "output_type": "stream",
     "text": [
      "[*********************100%***********************]  1 of 1 completed\n"
     ]
    },
    {
     "data": {
      "text/html": [
       "<div>\n",
       "<style scoped>\n",
       "    .dataframe tbody tr th:only-of-type {\n",
       "        vertical-align: middle;\n",
       "    }\n",
       "\n",
       "    .dataframe tbody tr th {\n",
       "        vertical-align: top;\n",
       "    }\n",
       "\n",
       "    .dataframe thead th {\n",
       "        text-align: right;\n",
       "    }\n",
       "</style>\n",
       "<table border=\"1\" class=\"dataframe\">\n",
       "  <thead>\n",
       "    <tr style=\"text-align: right;\">\n",
       "      <th></th>\n",
       "      <th>Date</th>\n",
       "      <th>Open</th>\n",
       "      <th>High</th>\n",
       "      <th>Low</th>\n",
       "      <th>Close</th>\n",
       "      <th>Adj Close</th>\n",
       "      <th>Volume</th>\n",
       "    </tr>\n",
       "  </thead>\n",
       "  <tbody>\n",
       "    <tr>\n",
       "      <th>0</th>\n",
       "      <td>2010-06-29</td>\n",
       "      <td>348.399994</td>\n",
       "      <td>348.399994</td>\n",
       "      <td>340.000000</td>\n",
       "      <td>340.600006</td>\n",
       "      <td>314.235565</td>\n",
       "      <td>491114</td>\n",
       "    </tr>\n",
       "    <tr>\n",
       "      <th>1</th>\n",
       "      <td>2010-06-30</td>\n",
       "      <td>338.000000</td>\n",
       "      <td>341.700012</td>\n",
       "      <td>334.350006</td>\n",
       "      <td>338.500000</td>\n",
       "      <td>312.298126</td>\n",
       "      <td>1223210</td>\n",
       "    </tr>\n",
       "    <tr>\n",
       "      <th>2</th>\n",
       "      <td>2010-07-01</td>\n",
       "      <td>338.000000</td>\n",
       "      <td>339.799988</td>\n",
       "      <td>334.549988</td>\n",
       "      <td>335.250000</td>\n",
       "      <td>309.299744</td>\n",
       "      <td>417953</td>\n",
       "    </tr>\n",
       "    <tr>\n",
       "      <th>3</th>\n",
       "      <td>2010-07-02</td>\n",
       "      <td>334.500000</td>\n",
       "      <td>338.799988</td>\n",
       "      <td>334.500000</td>\n",
       "      <td>336.799988</td>\n",
       "      <td>310.729645</td>\n",
       "      <td>348768</td>\n",
       "    </tr>\n",
       "    <tr>\n",
       "      <th>4</th>\n",
       "      <td>2010-07-05</td>\n",
       "      <td>338.000000</td>\n",
       "      <td>342.899994</td>\n",
       "      <td>336.049988</td>\n",
       "      <td>337.299988</td>\n",
       "      <td>311.191010</td>\n",
       "      <td>711437</td>\n",
       "    </tr>\n",
       "    <tr>\n",
       "      <th>...</th>\n",
       "      <td>...</td>\n",
       "      <td>...</td>\n",
       "      <td>...</td>\n",
       "      <td>...</td>\n",
       "      <td>...</td>\n",
       "      <td>...</td>\n",
       "      <td>...</td>\n",
       "    </tr>\n",
       "    <tr>\n",
       "      <th>3245</th>\n",
       "      <td>2023-08-21</td>\n",
       "      <td>1237.449951</td>\n",
       "      <td>1245.300049</td>\n",
       "      <td>1230.300049</td>\n",
       "      <td>1233.800049</td>\n",
       "      <td>1233.800049</td>\n",
       "      <td>1101408</td>\n",
       "    </tr>\n",
       "    <tr>\n",
       "      <th>3246</th>\n",
       "      <td>2023-08-22</td>\n",
       "      <td>1233.800049</td>\n",
       "      <td>1240.250000</td>\n",
       "      <td>1218.050049</td>\n",
       "      <td>1221.000000</td>\n",
       "      <td>1221.000000</td>\n",
       "      <td>1379445</td>\n",
       "    </tr>\n",
       "    <tr>\n",
       "      <th>3247</th>\n",
       "      <td>2023-08-23</td>\n",
       "      <td>1252.050049</td>\n",
       "      <td>1259.900024</td>\n",
       "      <td>1225.050049</td>\n",
       "      <td>1230.650024</td>\n",
       "      <td>1230.650024</td>\n",
       "      <td>2562635</td>\n",
       "    </tr>\n",
       "    <tr>\n",
       "      <th>3248</th>\n",
       "      <td>2023-08-24</td>\n",
       "      <td>1235.199951</td>\n",
       "      <td>1239.650024</td>\n",
       "      <td>1217.000000</td>\n",
       "      <td>1220.500000</td>\n",
       "      <td>1220.500000</td>\n",
       "      <td>848018</td>\n",
       "    </tr>\n",
       "    <tr>\n",
       "      <th>3249</th>\n",
       "      <td>2023-08-25</td>\n",
       "      <td>1217.949951</td>\n",
       "      <td>1219.900024</td>\n",
       "      <td>1205.000000</td>\n",
       "      <td>1209.400024</td>\n",
       "      <td>1209.400024</td>\n",
       "      <td>887533</td>\n",
       "    </tr>\n",
       "  </tbody>\n",
       "</table>\n",
       "<p>3250 rows × 7 columns</p>\n",
       "</div>"
      ],
      "text/plain": [
       "           Date         Open         High          Low        Close  \\\n",
       "0    2010-06-29   348.399994   348.399994   340.000000   340.600006   \n",
       "1    2010-06-30   338.000000   341.700012   334.350006   338.500000   \n",
       "2    2010-07-01   338.000000   339.799988   334.549988   335.250000   \n",
       "3    2010-07-02   334.500000   338.799988   334.500000   336.799988   \n",
       "4    2010-07-05   338.000000   342.899994   336.049988   337.299988   \n",
       "...         ...          ...          ...          ...          ...   \n",
       "3245 2023-08-21  1237.449951  1245.300049  1230.300049  1233.800049   \n",
       "3246 2023-08-22  1233.800049  1240.250000  1218.050049  1221.000000   \n",
       "3247 2023-08-23  1252.050049  1259.900024  1225.050049  1230.650024   \n",
       "3248 2023-08-24  1235.199951  1239.650024  1217.000000  1220.500000   \n",
       "3249 2023-08-25  1217.949951  1219.900024  1205.000000  1209.400024   \n",
       "\n",
       "        Adj Close   Volume  \n",
       "0      314.235565   491114  \n",
       "1      312.298126  1223210  \n",
       "2      309.299744   417953  \n",
       "3      310.729645   348768  \n",
       "4      311.191010   711437  \n",
       "...           ...      ...  \n",
       "3245  1233.800049  1101408  \n",
       "3246  1221.000000  1379445  \n",
       "3247  1230.650024  2562635  \n",
       "3248  1220.500000   848018  \n",
       "3249  1209.400024   887533  \n",
       "\n",
       "[3250 rows x 7 columns]"
      ]
     },
     "execution_count": 2,
     "metadata": {},
     "output_type": "execute_result"
    }
   ],
   "source": [
    "main_data=pdr.get_data_yahoo('CIPLA.NS',start='2010-06-29',end='2023-08-27')\n",
    "main_data=main_data.reset_index()\n",
    "main_data"
   ]
  },
  {
   "cell_type": "code",
   "execution_count": 3,
   "metadata": {},
   "outputs": [
    {
     "data": {
      "text/html": [
       "<div>\n",
       "<style scoped>\n",
       "    .dataframe tbody tr th:only-of-type {\n",
       "        vertical-align: middle;\n",
       "    }\n",
       "\n",
       "    .dataframe tbody tr th {\n",
       "        vertical-align: top;\n",
       "    }\n",
       "\n",
       "    .dataframe thead th {\n",
       "        text-align: right;\n",
       "    }\n",
       "</style>\n",
       "<table border=\"1\" class=\"dataframe\">\n",
       "  <thead>\n",
       "    <tr style=\"text-align: right;\">\n",
       "      <th></th>\n",
       "      <th>Date</th>\n",
       "      <th>Open</th>\n",
       "      <th>High</th>\n",
       "      <th>Low</th>\n",
       "      <th>Close</th>\n",
       "      <th>Adj Close</th>\n",
       "      <th>Volume</th>\n",
       "    </tr>\n",
       "  </thead>\n",
       "  <tbody>\n",
       "    <tr>\n",
       "      <th>0</th>\n",
       "      <td>2010-06-29</td>\n",
       "      <td>348.399994</td>\n",
       "      <td>348.399994</td>\n",
       "      <td>340.000000</td>\n",
       "      <td>340.600006</td>\n",
       "      <td>314.235565</td>\n",
       "      <td>491114</td>\n",
       "    </tr>\n",
       "    <tr>\n",
       "      <th>1</th>\n",
       "      <td>2010-06-30</td>\n",
       "      <td>338.000000</td>\n",
       "      <td>341.700012</td>\n",
       "      <td>334.350006</td>\n",
       "      <td>338.500000</td>\n",
       "      <td>312.298126</td>\n",
       "      <td>1223210</td>\n",
       "    </tr>\n",
       "    <tr>\n",
       "      <th>2</th>\n",
       "      <td>2010-07-01</td>\n",
       "      <td>338.000000</td>\n",
       "      <td>339.799988</td>\n",
       "      <td>334.549988</td>\n",
       "      <td>335.250000</td>\n",
       "      <td>309.299744</td>\n",
       "      <td>417953</td>\n",
       "    </tr>\n",
       "    <tr>\n",
       "      <th>3</th>\n",
       "      <td>2010-07-02</td>\n",
       "      <td>334.500000</td>\n",
       "      <td>338.799988</td>\n",
       "      <td>334.500000</td>\n",
       "      <td>336.799988</td>\n",
       "      <td>310.729645</td>\n",
       "      <td>348768</td>\n",
       "    </tr>\n",
       "    <tr>\n",
       "      <th>4</th>\n",
       "      <td>2010-07-05</td>\n",
       "      <td>338.000000</td>\n",
       "      <td>342.899994</td>\n",
       "      <td>336.049988</td>\n",
       "      <td>337.299988</td>\n",
       "      <td>311.191010</td>\n",
       "      <td>711437</td>\n",
       "    </tr>\n",
       "    <tr>\n",
       "      <th>...</th>\n",
       "      <td>...</td>\n",
       "      <td>...</td>\n",
       "      <td>...</td>\n",
       "      <td>...</td>\n",
       "      <td>...</td>\n",
       "      <td>...</td>\n",
       "      <td>...</td>\n",
       "    </tr>\n",
       "    <tr>\n",
       "      <th>3245</th>\n",
       "      <td>2023-08-21</td>\n",
       "      <td>1237.449951</td>\n",
       "      <td>1245.300049</td>\n",
       "      <td>1230.300049</td>\n",
       "      <td>1233.800049</td>\n",
       "      <td>1233.800049</td>\n",
       "      <td>1101408</td>\n",
       "    </tr>\n",
       "    <tr>\n",
       "      <th>3246</th>\n",
       "      <td>2023-08-22</td>\n",
       "      <td>1233.800049</td>\n",
       "      <td>1240.250000</td>\n",
       "      <td>1218.050049</td>\n",
       "      <td>1221.000000</td>\n",
       "      <td>1221.000000</td>\n",
       "      <td>1379445</td>\n",
       "    </tr>\n",
       "    <tr>\n",
       "      <th>3247</th>\n",
       "      <td>2023-08-23</td>\n",
       "      <td>1252.050049</td>\n",
       "      <td>1259.900024</td>\n",
       "      <td>1225.050049</td>\n",
       "      <td>1230.650024</td>\n",
       "      <td>1230.650024</td>\n",
       "      <td>2562635</td>\n",
       "    </tr>\n",
       "    <tr>\n",
       "      <th>3248</th>\n",
       "      <td>2023-08-24</td>\n",
       "      <td>1235.199951</td>\n",
       "      <td>1239.650024</td>\n",
       "      <td>1217.000000</td>\n",
       "      <td>1220.500000</td>\n",
       "      <td>1220.500000</td>\n",
       "      <td>848018</td>\n",
       "    </tr>\n",
       "    <tr>\n",
       "      <th>3249</th>\n",
       "      <td>2023-08-25</td>\n",
       "      <td>1217.949951</td>\n",
       "      <td>1219.900024</td>\n",
       "      <td>1205.000000</td>\n",
       "      <td>1209.400024</td>\n",
       "      <td>1209.400024</td>\n",
       "      <td>887533</td>\n",
       "    </tr>\n",
       "  </tbody>\n",
       "</table>\n",
       "<p>3250 rows × 7 columns</p>\n",
       "</div>"
      ],
      "text/plain": [
       "           Date         Open         High          Low        Close  \\\n",
       "0    2010-06-29   348.399994   348.399994   340.000000   340.600006   \n",
       "1    2010-06-30   338.000000   341.700012   334.350006   338.500000   \n",
       "2    2010-07-01   338.000000   339.799988   334.549988   335.250000   \n",
       "3    2010-07-02   334.500000   338.799988   334.500000   336.799988   \n",
       "4    2010-07-05   338.000000   342.899994   336.049988   337.299988   \n",
       "...         ...          ...          ...          ...          ...   \n",
       "3245 2023-08-21  1237.449951  1245.300049  1230.300049  1233.800049   \n",
       "3246 2023-08-22  1233.800049  1240.250000  1218.050049  1221.000000   \n",
       "3247 2023-08-23  1252.050049  1259.900024  1225.050049  1230.650024   \n",
       "3248 2023-08-24  1235.199951  1239.650024  1217.000000  1220.500000   \n",
       "3249 2023-08-25  1217.949951  1219.900024  1205.000000  1209.400024   \n",
       "\n",
       "        Adj Close   Volume  \n",
       "0      314.235565   491114  \n",
       "1      312.298126  1223210  \n",
       "2      309.299744   417953  \n",
       "3      310.729645   348768  \n",
       "4      311.191010   711437  \n",
       "...           ...      ...  \n",
       "3245  1233.800049  1101408  \n",
       "3246  1221.000000  1379445  \n",
       "3247  1230.650024  2562635  \n",
       "3248  1220.500000   848018  \n",
       "3249  1209.400024   887533  \n",
       "\n",
       "[3250 rows x 7 columns]"
      ]
     },
     "execution_count": 3,
     "metadata": {},
     "output_type": "execute_result"
    }
   ],
   "source": [
    "main_data"
   ]
  },
  {
   "cell_type": "markdown",
   "metadata": {},
   "source": [
    "*Here We are considering only the Closing Price*"
   ]
  },
  {
   "cell_type": "code",
   "execution_count": 4,
   "metadata": {},
   "outputs": [],
   "source": [
    "date = main_data.Date\n",
    "close=main_data.Close"
   ]
  },
  {
   "cell_type": "markdown",
   "metadata": {},
   "source": [
    "> # `ARMA MODEL`"
   ]
  },
  {
   "cell_type": "markdown",
   "metadata": {},
   "source": [
    "## Unique Root Test using ADF Test"
   ]
  },
  {
   "cell_type": "markdown",
   "metadata": {},
   "source": [
    "Training and Testing data"
   ]
  },
  {
   "cell_type": "code",
   "execution_count": 20,
   "metadata": {},
   "outputs": [],
   "source": [
    "arma_train_data = close[ : int(0.8*len(close))]\n",
    "arma_test_data = close[int(0.8* len(close)) : ]"
   ]
  },
  {
   "cell_type": "code",
   "execution_count": 21,
   "metadata": {},
   "outputs": [],
   "source": [
    "return_values = close.pct_change().dropna() "
   ]
  },
  {
   "cell_type": "code",
   "execution_count": 22,
   "metadata": {},
   "outputs": [],
   "source": [
    "arma_train_return_val = arma_train_data.pct_change().dropna() "
   ]
  },
  {
   "cell_type": "code",
   "execution_count": 23,
   "metadata": {},
   "outputs": [
    {
     "name": "stdout",
     "output_type": "stream",
     "text": [
      "ADF Test Statistic : -0.7412598519326689\n",
      "p-value : 0.8357709614172433\n",
      "#Lags Used : 1\n",
      "Number of Observations Used : 2598\n",
      "weak evidence against null hypothesis, time series has a unit root, indicating it is non-stationary \n",
      "None\n",
      "<------------------------------------------------------------------------------------------------------------------------------------->\n",
      "ADF Test Statistic : -52.37068730831057\n",
      "p-value : 0.0\n",
      "#Lags Used : 0\n",
      "Number of Observations Used : 2598\n",
      "strong evidence against the null hypothesis(Ho), reject the null hypothesis. Data has no unit root and is stationary\n",
      "None\n"
     ]
    }
   ],
   "source": [
    "def adfuller_test(sales):\n",
    "                result=adfuller(sales)\n",
    "                labels = ['ADF Test Statistic','p-value','#Lags Used','Number of Observations Used']\n",
    "                for value,label in zip(result,labels):\n",
    "                        print((label+' : '+str(value) ))\n",
    "                if result[1] <= 0.05:\n",
    "                        print(\"strong evidence against the null hypothesis(Ho), reject the null hypothesis. Data has no unit root and is stationary\")\n",
    "                else:\n",
    "                        print(\"weak evidence against null hypothesis, time series has a unit root, indicating it is non-stationary \")\n",
    "\n",
    "print(adfuller_test(arma_train_data))\n",
    "print(\"<------------------------------------------------------------------------------------------------------------------------------------->\")\n",
    "print(adfuller_test(arma_train_return_val))"
   ]
  },
  {
   "cell_type": "markdown",
   "metadata": {},
   "source": [
    "**Using AutoArima**"
   ]
  },
  {
   "cell_type": "code",
   "execution_count": 24,
   "metadata": {},
   "outputs": [
    {
     "name": "stdout",
     "output_type": "stream",
     "text": [
      "Performing stepwise search to minimize aic\n",
      " ARIMA(2,0,2)(0,0,0)[0]             : AIC=-13885.466, Time=0.58 sec\n",
      " ARIMA(0,0,0)(0,0,0)[0]             : AIC=-13891.588, Time=0.08 sec\n",
      " ARIMA(1,0,0)(0,0,0)[0]             : AIC=-13891.463, Time=0.06 sec\n",
      " ARIMA(0,0,1)(0,0,0)[0]             : AIC=-13891.457, Time=0.08 sec\n",
      " ARIMA(1,0,1)(0,0,0)[0]             : AIC=-13889.464, Time=0.11 sec\n",
      " ARIMA(0,0,0)(0,0,0)[0] intercept   : AIC=-13891.858, Time=0.19 sec\n",
      " ARIMA(1,0,0)(0,0,0)[0] intercept   : AIC=-13891.859, Time=0.13 sec\n",
      " ARIMA(2,0,0)(0,0,0)[0] intercept   : AIC=-13889.858, Time=0.16 sec\n",
      " ARIMA(1,0,1)(0,0,0)[0] intercept   : AIC=-13889.858, Time=0.45 sec\n",
      " ARIMA(0,0,1)(0,0,0)[0] intercept   : AIC=-13891.856, Time=0.37 sec\n",
      " ARIMA(2,0,1)(0,0,0)[0] intercept   : AIC=-13887.858, Time=0.83 sec\n",
      "\n",
      "Best model:  ARIMA(1,0,0)(0,0,0)[0] intercept\n",
      "Total fit time: 3.047 seconds\n"
     ]
    }
   ],
   "source": [
    "arma_order = auto_arima(arma_train_return_val, seasonal=False, trace=True, suppress_warnings=True).order"
   ]
  },
  {
   "cell_type": "markdown",
   "metadata": {},
   "source": [
    "According to Minimum AIC Criterion `(1,0,0)` is the best fit"
   ]
  },
  {
   "cell_type": "code",
   "execution_count": 25,
   "metadata": {},
   "outputs": [
    {
     "name": "stderr",
     "output_type": "stream",
     "text": [
      "c:\\Users\\chakr\\AppData\\Local\\Programs\\Python\\Python310\\lib\\site-packages\\statsmodels\\tsa\\base\\tsa_model.py:471: ValueWarning: An unsupported index was provided and will be ignored when e.g. forecasting.\n",
      "  self._init_dates(dates, freq)\n",
      "c:\\Users\\chakr\\AppData\\Local\\Programs\\Python\\Python310\\lib\\site-packages\\statsmodels\\tsa\\base\\tsa_model.py:471: ValueWarning: An unsupported index was provided and will be ignored when e.g. forecasting.\n",
      "  self._init_dates(dates, freq)\n",
      "c:\\Users\\chakr\\AppData\\Local\\Programs\\Python\\Python310\\lib\\site-packages\\statsmodels\\tsa\\base\\tsa_model.py:471: ValueWarning: An unsupported index was provided and will be ignored when e.g. forecasting.\n",
      "  self._init_dates(dates, freq)\n"
     ]
    }
   ],
   "source": [
    "arma_order = (1, 0, 0)  \n",
    "arma_model = sm.tsa.arima.ARIMA(arma_train_return_val, order=arma_order)\n",
    "arma_results = arma_model.fit()"
   ]
  },
  {
   "cell_type": "code",
   "execution_count": 26,
   "metadata": {},
   "outputs": [
    {
     "name": "stderr",
     "output_type": "stream",
     "text": [
      "c:\\Users\\chakr\\AppData\\Local\\Programs\\Python\\Python310\\lib\\site-packages\\statsmodels\\tsa\\base\\tsa_model.py:834: ValueWarning: No supported index is available. Prediction results will be given with an integer index beginning at `start`.\n",
      "  return get_prediction_index(\n"
     ]
    }
   ],
   "source": [
    "arma_predictions = arma_results.predict(start=len(arma_train_return_val), end=len(arma_train_return_val) + len(arma_test_data) - 1)"
   ]
  },
  {
   "cell_type": "code",
   "execution_count": 53,
   "metadata": {},
   "outputs": [],
   "source": [
    "original_predicted_prices = np.mean(close.values) * (1 + arma_predictions).cumprod()"
   ]
  },
  {
   "cell_type": "code",
   "execution_count": 54,
   "metadata": {},
   "outputs": [],
   "source": [
    "arma_mse = mean_squared_error(arma_test_data, original_predicted_prices)\n",
    "arma_mae =  mean_absolute_error(arma_test_data, original_predicted_prices)\n",
    "\n",
    "# Step 5: Calculate RMSE\n",
    "arma_rmse = np.sqrt(arma_mse)"
   ]
  },
  {
   "cell_type": "markdown",
   "metadata": {},
   "source": [
    "creating the Metrics DataFrame"
   ]
  },
  {
   "cell_type": "code",
   "execution_count": 52,
   "metadata": {},
   "outputs": [
    {
     "data": {
      "text/plain": [
       "2599    340.567783\n",
       "2600    340.741012\n",
       "2601    340.908624\n",
       "2602    341.076477\n",
       "2603    341.244408\n",
       "           ...    \n",
       "3244    467.837759\n",
       "3245    468.068102\n",
       "3246    468.298558\n",
       "3247    468.529128\n",
       "3248    468.759811\n",
       "Name: predicted_mean, Length: 650, dtype: float64"
      ]
     },
     "execution_count": 52,
     "metadata": {},
     "output_type": "execute_result"
    }
   ],
   "source": [
    "original_predicted_prices"
   ]
  },
  {
   "cell_type": "code",
   "execution_count": 55,
   "metadata": {},
   "outputs": [
    {
     "data": {
      "text/html": [
       "<div>\n",
       "<style scoped>\n",
       "    .dataframe tbody tr th:only-of-type {\n",
       "        vertical-align: middle;\n",
       "    }\n",
       "\n",
       "    .dataframe tbody tr th {\n",
       "        vertical-align: top;\n",
       "    }\n",
       "\n",
       "    .dataframe thead th {\n",
       "        text-align: right;\n",
       "    }\n",
       "</style>\n",
       "<table border=\"1\" class=\"dataframe\">\n",
       "  <thead>\n",
       "    <tr style=\"text-align: right;\">\n",
       "      <th></th>\n",
       "      <th>Model Name</th>\n",
       "      <th>RMSE</th>\n",
       "      <th>MSE</th>\n",
       "      <th>MAE</th>\n",
       "    </tr>\n",
       "  </thead>\n",
       "  <tbody>\n",
       "    <tr>\n",
       "      <th>0</th>\n",
       "      <td>ARMA(1,0,1)</td>\n",
       "      <td>281.61564</td>\n",
       "      <td>79307.368515</td>\n",
       "      <td>271.644106</td>\n",
       "    </tr>\n",
       "  </tbody>\n",
       "</table>\n",
       "</div>"
      ],
      "text/plain": [
       "    Model Name       RMSE           MSE         MAE\n",
       "0  ARMA(1,0,1)  281.61564  79307.368515  271.644106"
      ]
     },
     "execution_count": 55,
     "metadata": {},
     "output_type": "execute_result"
    }
   ],
   "source": [
    "Metrics_DF = pd.DataFrame({\"Model Name\": ['ARMA(1,0,1)'],\n",
    "                        \"RMSE\": [arma_rmse],\n",
    "                        \"MSE\": [arma_mse],\n",
    "                        \"MAE\": [arma_mae]})\n",
    "Metrics_DF"
   ]
  },
  {
   "cell_type": "code",
   "execution_count": 49,
   "metadata": {},
   "outputs": [],
   "source": [
    "residual = arma_results.resid"
   ]
  },
  {
   "cell_type": "code",
   "execution_count": 50,
   "metadata": {},
   "outputs": [],
   "source": [
    "Xt_1 = return_values.shift(1)\n",
    "Xt_2 = return_values.shift(2)\n",
    "\n",
    "\n",
    "# Lagged Values of the Residuals\n",
    "et_1 = residual.shift(1)\n",
    "et_2 = residual.shift(2)"
   ]
  },
  {
   "cell_type": "code",
   "execution_count": 51,
   "metadata": {},
   "outputs": [
    {
     "data": {
      "text/html": [
       "<div>\n",
       "<style scoped>\n",
       "    .dataframe tbody tr th:only-of-type {\n",
       "        vertical-align: middle;\n",
       "    }\n",
       "\n",
       "    .dataframe tbody tr th {\n",
       "        vertical-align: top;\n",
       "    }\n",
       "\n",
       "    .dataframe thead th {\n",
       "        text-align: right;\n",
       "    }\n",
       "</style>\n",
       "<table border=\"1\" class=\"dataframe\">\n",
       "  <thead>\n",
       "    <tr style=\"text-align: right;\">\n",
       "      <th></th>\n",
       "      <th>Date</th>\n",
       "      <th>Xt_1</th>\n",
       "      <th>Xt_2</th>\n",
       "      <th>et_1</th>\n",
       "      <th>et_2</th>\n",
       "      <th>Yt</th>\n",
       "    </tr>\n",
       "  </thead>\n",
       "  <tbody>\n",
       "    <tr>\n",
       "      <th>3</th>\n",
       "      <td>2010-07-02</td>\n",
       "      <td>-0.009601</td>\n",
       "      <td>-0.006166</td>\n",
       "      <td>-0.010278</td>\n",
       "      <td>-0.006658</td>\n",
       "      <td>0.004623</td>\n",
       "    </tr>\n",
       "    <tr>\n",
       "      <th>4</th>\n",
       "      <td>2010-07-05</td>\n",
       "      <td>0.004623</td>\n",
       "      <td>-0.009601</td>\n",
       "      <td>0.003851</td>\n",
       "      <td>-0.010278</td>\n",
       "      <td>0.001485</td>\n",
       "    </tr>\n",
       "    <tr>\n",
       "      <th>5</th>\n",
       "      <td>2010-07-06</td>\n",
       "      <td>0.001485</td>\n",
       "      <td>0.004623</td>\n",
       "      <td>0.001107</td>\n",
       "      <td>0.003851</td>\n",
       "      <td>0.004744</td>\n",
       "    </tr>\n",
       "    <tr>\n",
       "      <th>6</th>\n",
       "      <td>2010-07-07</td>\n",
       "      <td>0.004744</td>\n",
       "      <td>0.001485</td>\n",
       "      <td>0.004279</td>\n",
       "      <td>0.001107</td>\n",
       "      <td>-0.012541</td>\n",
       "    </tr>\n",
       "    <tr>\n",
       "      <th>7</th>\n",
       "      <td>2010-07-08</td>\n",
       "      <td>-0.012541</td>\n",
       "      <td>0.004744</td>\n",
       "      <td>-0.012915</td>\n",
       "      <td>0.004279</td>\n",
       "      <td>0.014343</td>\n",
       "    </tr>\n",
       "    <tr>\n",
       "      <th>...</th>\n",
       "      <td>...</td>\n",
       "      <td>...</td>\n",
       "      <td>...</td>\n",
       "      <td>...</td>\n",
       "      <td>...</td>\n",
       "      <td>...</td>\n",
       "    </tr>\n",
       "    <tr>\n",
       "      <th>2595</th>\n",
       "      <td>2021-01-05</td>\n",
       "      <td>0.006835</td>\n",
       "      <td>0.008110</td>\n",
       "      <td>0.006554</td>\n",
       "      <td>0.007474</td>\n",
       "      <td>-0.006008</td>\n",
       "    </tr>\n",
       "    <tr>\n",
       "      <th>2596</th>\n",
       "      <td>2021-01-06</td>\n",
       "      <td>-0.006008</td>\n",
       "      <td>0.006835</td>\n",
       "      <td>-0.006324</td>\n",
       "      <td>0.006554</td>\n",
       "      <td>-0.002962</td>\n",
       "    </tr>\n",
       "    <tr>\n",
       "      <th>2597</th>\n",
       "      <td>2021-01-07</td>\n",
       "      <td>-0.002962</td>\n",
       "      <td>-0.006008</td>\n",
       "      <td>-0.003634</td>\n",
       "      <td>-0.006324</td>\n",
       "      <td>0.002122</td>\n",
       "    </tr>\n",
       "    <tr>\n",
       "      <th>2598</th>\n",
       "      <td>2021-01-08</td>\n",
       "      <td>0.002122</td>\n",
       "      <td>-0.002962</td>\n",
       "      <td>0.001534</td>\n",
       "      <td>-0.003634</td>\n",
       "      <td>0.014700</td>\n",
       "    </tr>\n",
       "    <tr>\n",
       "      <th>2599</th>\n",
       "      <td>2021-01-11</td>\n",
       "      <td>0.014700</td>\n",
       "      <td>0.002122</td>\n",
       "      <td>0.014253</td>\n",
       "      <td>0.001534</td>\n",
       "      <td>0.021641</td>\n",
       "    </tr>\n",
       "  </tbody>\n",
       "</table>\n",
       "<p>2597 rows × 6 columns</p>\n",
       "</div>"
      ],
      "text/plain": [
       "           Date      Xt_1      Xt_2      et_1      et_2        Yt\n",
       "3    2010-07-02 -0.009601 -0.006166 -0.010278 -0.006658  0.004623\n",
       "4    2010-07-05  0.004623 -0.009601  0.003851 -0.010278  0.001485\n",
       "5    2010-07-06  0.001485  0.004623  0.001107  0.003851  0.004744\n",
       "6    2010-07-07  0.004744  0.001485  0.004279  0.001107 -0.012541\n",
       "7    2010-07-08 -0.012541  0.004744 -0.012915  0.004279  0.014343\n",
       "...         ...       ...       ...       ...       ...       ...\n",
       "2595 2021-01-05  0.006835  0.008110  0.006554  0.007474 -0.006008\n",
       "2596 2021-01-06 -0.006008  0.006835 -0.006324  0.006554 -0.002962\n",
       "2597 2021-01-07 -0.002962 -0.006008 -0.003634 -0.006324  0.002122\n",
       "2598 2021-01-08  0.002122 -0.002962  0.001534 -0.003634  0.014700\n",
       "2599 2021-01-11  0.014700  0.002122  0.014253  0.001534  0.021641\n",
       "\n",
       "[2597 rows x 6 columns]"
      ]
     },
     "execution_count": 51,
     "metadata": {},
     "output_type": "execute_result"
    }
   ],
   "source": [
    "data = pd.DataFrame({\"Date\": date[1:],\n",
    "                            \"Xt_1\": Xt_1,\n",
    "                            \"Xt_2\": Xt_2,\n",
    "                            \"et_1\": et_1,\n",
    "                            \"et_2\": et_2,\n",
    "                            \"Yt\": return_values\n",
    "                                 })\n",
    "data.dropna(inplace=True)\n",
    "\n",
    "data"
   ]
  },
  {
   "cell_type": "code",
   "execution_count": 12,
   "metadata": {},
   "outputs": [],
   "source": [
    "X = data[[\"Xt_1\",\"Xt_2\",\"et_1\",\"et_2\"]]\n",
    "y = data['Yt']"
   ]
  },
  {
   "cell_type": "code",
   "execution_count": 13,
   "metadata": {},
   "outputs": [],
   "source": [
    "scaler = StandardScaler()\n",
    "X = scaler.fit_transform(X)"
   ]
  },
  {
   "cell_type": "code",
   "execution_count": 14,
   "metadata": {},
   "outputs": [],
   "source": [
    "model = Sequential()\n",
    "model.add(Dense(units=32, activation='relu', input_shape=(X.shape[1],)))\n",
    "model.add(Dense(units=16, activation='relu'))\n",
    "model.add(Dense(units=8, activation='relu'))\n",
    "model.add(Dense(units=1, activation='linear'))\n",
    "model.compile(optimizer='adam', loss='mean_squared_error')"
   ]
  },
  {
   "cell_type": "code",
   "execution_count": 15,
   "metadata": {},
   "outputs": [
    {
     "name": "stderr",
     "output_type": "stream",
     "text": [
      "C:\\Users\\chakr\\AppData\\Local\\Temp\\ipykernel_10660\\2808417156.py:4: FutureWarning: The behavior of `series[i:j]` with an integer-dtype index is deprecated. In a future version, this will be treated as *label-based* indexing, consistent with e.g. `series[i]` lookups. To retain the old behavior, use `series.iloc[i:j]`. To get the future behavior, use `series.loc[i:j]`.\n",
      "  y_train, y_test = y[:train_size], y[train_size:]\n",
      "c:\\Users\\chakr\\AppData\\Local\\Programs\\Python\\Python310\\lib\\site-packages\\keras\\engine\\data_adapter.py:1696: FutureWarning: The behavior of `series[i:j]` with an integer-dtype index is deprecated. In a future version, this will be treated as *label-based* indexing, consistent with e.g. `series[i]` lookups. To retain the old behavior, use `series.iloc[i:j]`. To get the future behavior, use `series.loc[i:j]`.\n",
      "  return t[start:end]\n"
     ]
    },
    {
     "name": "stdout",
     "output_type": "stream",
     "text": [
      "Epoch 1/50\n",
      "73/73 [==============================] - 2s 6ms/step - loss: 0.0013 - val_loss: 6.9168e-04\n",
      "Epoch 2/50\n",
      "73/73 [==============================] - 0s 3ms/step - loss: 2.5870e-04 - val_loss: 6.6958e-04\n",
      "Epoch 3/50\n",
      "73/73 [==============================] - 0s 3ms/step - loss: 2.5238e-04 - val_loss: 6.6481e-04\n",
      "Epoch 4/50\n",
      "73/73 [==============================] - 0s 3ms/step - loss: 2.5365e-04 - val_loss: 6.6342e-04\n",
      "Epoch 5/50\n",
      "73/73 [==============================] - 0s 3ms/step - loss: 2.5653e-04 - val_loss: 6.5486e-04\n",
      "Epoch 6/50\n",
      "73/73 [==============================] - 0s 3ms/step - loss: 2.5518e-04 - val_loss: 6.4672e-04\n",
      "Epoch 7/50\n",
      "73/73 [==============================] - 0s 3ms/step - loss: 2.5268e-04 - val_loss: 6.4635e-04\n",
      "Epoch 8/50\n",
      "73/73 [==============================] - 0s 3ms/step - loss: 2.5345e-04 - val_loss: 6.4976e-04\n",
      "Epoch 9/50\n",
      "73/73 [==============================] - 0s 3ms/step - loss: 2.5452e-04 - val_loss: 6.9869e-04\n",
      "Epoch 10/50\n",
      "73/73 [==============================] - 0s 3ms/step - loss: 2.5974e-04 - val_loss: 6.3621e-04\n",
      "Epoch 11/50\n",
      "73/73 [==============================] - 0s 3ms/step - loss: 2.4814e-04 - val_loss: 7.0403e-04\n",
      "Epoch 12/50\n",
      "73/73 [==============================] - 0s 3ms/step - loss: 2.5148e-04 - val_loss: 7.2529e-04\n",
      "Epoch 13/50\n",
      "73/73 [==============================] - 0s 3ms/step - loss: 2.4983e-04 - val_loss: 7.3666e-04\n",
      "Epoch 14/50\n",
      "73/73 [==============================] - 0s 3ms/step - loss: 2.5300e-04 - val_loss: 6.9992e-04\n",
      "Epoch 15/50\n",
      "73/73 [==============================] - 0s 3ms/step - loss: 2.4743e-04 - val_loss: 6.5155e-04\n",
      "Epoch 16/50\n",
      "73/73 [==============================] - 0s 3ms/step - loss: 2.5873e-04 - val_loss: 8.2366e-04\n",
      "Epoch 17/50\n",
      "73/73 [==============================] - 0s 3ms/step - loss: 2.5918e-04 - val_loss: 7.6434e-04\n",
      "Epoch 18/50\n",
      "73/73 [==============================] - 0s 3ms/step - loss: 2.6653e-04 - val_loss: 7.2873e-04\n",
      "Epoch 19/50\n",
      "73/73 [==============================] - 0s 3ms/step - loss: 2.5488e-04 - val_loss: 6.4661e-04\n",
      "Epoch 20/50\n",
      "73/73 [==============================] - 0s 3ms/step - loss: 2.4596e-04 - val_loss: 6.7181e-04\n",
      "Epoch 21/50\n",
      "73/73 [==============================] - 0s 3ms/step - loss: 2.4969e-04 - val_loss: 6.6977e-04\n",
      "Epoch 22/50\n",
      "73/73 [==============================] - 0s 3ms/step - loss: 2.4895e-04 - val_loss: 7.1009e-04\n",
      "Epoch 23/50\n",
      "73/73 [==============================] - 0s 3ms/step - loss: 2.5158e-04 - val_loss: 7.0544e-04\n",
      "Epoch 24/50\n",
      "73/73 [==============================] - 0s 3ms/step - loss: 2.4688e-04 - val_loss: 6.6613e-04\n",
      "Epoch 25/50\n",
      "73/73 [==============================] - 0s 3ms/step - loss: 2.4397e-04 - val_loss: 6.5304e-04\n",
      "Epoch 26/50\n",
      "73/73 [==============================] - 0s 3ms/step - loss: 2.4648e-04 - val_loss: 7.0601e-04\n",
      "Epoch 27/50\n",
      "73/73 [==============================] - 0s 3ms/step - loss: 2.4636e-04 - val_loss: 6.7197e-04\n",
      "Epoch 28/50\n",
      "73/73 [==============================] - 0s 3ms/step - loss: 2.4834e-04 - val_loss: 6.8540e-04\n",
      "Epoch 29/50\n",
      "73/73 [==============================] - 0s 3ms/step - loss: 2.4372e-04 - val_loss: 6.8421e-04\n",
      "Epoch 30/50\n",
      "73/73 [==============================] - 0s 3ms/step - loss: 2.4592e-04 - val_loss: 6.5793e-04\n",
      "Epoch 31/50\n",
      "73/73 [==============================] - 0s 3ms/step - loss: 2.4344e-04 - val_loss: 7.6788e-04\n",
      "Epoch 32/50\n",
      "73/73 [==============================] - 0s 3ms/step - loss: 2.4859e-04 - val_loss: 7.0016e-04\n",
      "Epoch 33/50\n",
      "73/73 [==============================] - 0s 3ms/step - loss: 2.4812e-04 - val_loss: 6.6837e-04\n",
      "Epoch 34/50\n",
      "73/73 [==============================] - 0s 3ms/step - loss: 2.4325e-04 - val_loss: 7.0499e-04\n",
      "Epoch 35/50\n",
      "73/73 [==============================] - 0s 3ms/step - loss: 2.4502e-04 - val_loss: 7.0404e-04\n",
      "Epoch 36/50\n",
      "73/73 [==============================] - 0s 2ms/step - loss: 2.4365e-04 - val_loss: 6.9475e-04\n",
      "Epoch 37/50\n",
      "73/73 [==============================] - 0s 2ms/step - loss: 2.4412e-04 - val_loss: 6.4301e-04\n",
      "Epoch 38/50\n",
      "73/73 [==============================] - 0s 2ms/step - loss: 2.4494e-04 - val_loss: 6.2375e-04\n",
      "Epoch 39/50\n",
      "73/73 [==============================] - 0s 2ms/step - loss: 2.4277e-04 - val_loss: 6.8170e-04\n",
      "Epoch 40/50\n",
      "73/73 [==============================] - 0s 2ms/step - loss: 2.4327e-04 - val_loss: 6.3908e-04\n",
      "Epoch 41/50\n",
      "73/73 [==============================] - 0s 3ms/step - loss: 2.4262e-04 - val_loss: 6.4854e-04\n",
      "Epoch 42/50\n",
      "73/73 [==============================] - 0s 2ms/step - loss: 2.4254e-04 - val_loss: 6.6235e-04\n",
      "Epoch 43/50\n",
      "73/73 [==============================] - 0s 2ms/step - loss: 2.4273e-04 - val_loss: 6.7223e-04\n",
      "Epoch 44/50\n",
      "73/73 [==============================] - 0s 2ms/step - loss: 2.4494e-04 - val_loss: 6.3105e-04\n",
      "Epoch 45/50\n",
      "73/73 [==============================] - 0s 3ms/step - loss: 2.4386e-04 - val_loss: 6.3568e-04\n",
      "Epoch 46/50\n",
      "73/73 [==============================] - 0s 2ms/step - loss: 2.4194e-04 - val_loss: 6.5286e-04\n",
      "Epoch 47/50\n",
      "73/73 [==============================] - 0s 2ms/step - loss: 2.4228e-04 - val_loss: 6.5263e-04\n",
      "Epoch 48/50\n",
      "73/73 [==============================] - 0s 2ms/step - loss: 2.4263e-04 - val_loss: 6.4830e-04\n",
      "Epoch 49/50\n",
      "73/73 [==============================] - 0s 2ms/step - loss: 2.4106e-04 - val_loss: 6.4044e-04\n",
      "Epoch 50/50\n",
      "73/73 [==============================] - 0s 2ms/step - loss: 2.4261e-04 - val_loss: 6.6170e-04\n",
      "21/21 [==============================] - 0s 1ms/step - loss: 2.1948e-04\n",
      "Test Loss: 0.00021948218636680394\n"
     ]
    }
   ],
   "source": [
    "\n",
    "train_size = int(0.8 * len(X))  \n",
    "\n",
    "X_train, X_test = X[:train_size], X[train_size:]\n",
    "y_train, y_test = y[:train_size], y[train_size:]\n",
    "\n",
    "history = model.fit(X_train, y_train, epochs=50, batch_size=32, validation_split=0.1)\n",
    "\n",
    "\n",
    "test_loss = model.evaluate(X_test, y_test)\n",
    "print(\"Test Loss:\", test_loss)"
   ]
  },
  {
   "cell_type": "code",
   "execution_count": 16,
   "metadata": {},
   "outputs": [
    {
     "name": "stdout",
     "output_type": "stream",
     "text": [
      "1/1 [==============================] - ETA: 0s"
     ]
    },
    {
     "name": "stderr",
     "output_type": "stream",
     "text": [
      "c:\\Users\\chakr\\AppData\\Local\\Programs\\Python\\Python310\\lib\\site-packages\\sklearn\\base.py:409: UserWarning: X does not have valid feature names, but StandardScaler was fitted with feature names\n",
      "  warnings.warn(\n"
     ]
    },
    {
     "name": "stdout",
     "output_type": "stream",
     "text": [
      "1/1 [==============================] - 0s 147ms/step\n",
      "Predicted Value: 0.0012171408\n"
     ]
    }
   ],
   "source": [
    "new_data = np.array([[-0.014049,0.034767,-0.015659,0.033157]])\n",
    "new_data = scaler.transform(new_data)  \n",
    "prediction = model.predict(new_data)\n",
    "print(\"Predicted Value:\", prediction[0][0])"
   ]
  },
  {
   "cell_type": "code",
   "execution_count": 17,
   "metadata": {},
   "outputs": [
    {
     "name": "stdout",
     "output_type": "stream",
     "text": [
      "21/21 [==============================] - 0s 1ms/step\n",
      "Root Mean Squared Error (RMSE): 0.01481493100577819\n",
      "Mean Absolute Error (MAE): 0.010794527250869879\n"
     ]
    }
   ],
   "source": [
    "y_pred = model.predict(X_test)\n",
    "\n",
    "\n",
    "arma_ann_rmse = np.sqrt(mean_squared_error(y_test, y_pred))\n",
    "print(\"Root Mean Squared Error (RMSE):\", arma_ann_rmse)\n",
    "\n",
    "# Calculate MAE\n",
    "arma_ann_mae = mean_absolute_error(y_test, y_pred)\n",
    "print(\"Mean Absolute Error (MAE):\", arma_ann_mae)\n",
    "\n",
    "arma_ann_mse = arma_ann_rmse**2"
   ]
  },
  {
   "cell_type": "code",
   "execution_count": 18,
   "metadata": {},
   "outputs": [
    {
     "name": "stderr",
     "output_type": "stream",
     "text": [
      "C:\\Users\\chakr\\AppData\\Local\\Temp\\ipykernel_10660\\3442173795.py:1: FutureWarning: The frame.append method is deprecated and will be removed from pandas in a future version. Use pandas.concat instead.\n",
      "  Metrics_DF= Metrics_DF.append({\"Model Name\":'ARMA_ANN',\n"
     ]
    },
    {
     "data": {
      "text/html": [
       "<div>\n",
       "<style scoped>\n",
       "    .dataframe tbody tr th:only-of-type {\n",
       "        vertical-align: middle;\n",
       "    }\n",
       "\n",
       "    .dataframe tbody tr th {\n",
       "        vertical-align: top;\n",
       "    }\n",
       "\n",
       "    .dataframe thead th {\n",
       "        text-align: right;\n",
       "    }\n",
       "</style>\n",
       "<table border=\"1\" class=\"dataframe\">\n",
       "  <thead>\n",
       "    <tr style=\"text-align: right;\">\n",
       "      <th></th>\n",
       "      <th>Model Name</th>\n",
       "      <th>RMSE</th>\n",
       "      <th>MSE</th>\n",
       "      <th>MAE</th>\n",
       "    </tr>\n",
       "  </thead>\n",
       "  <tbody>\n",
       "    <tr>\n",
       "      <th>0</th>\n",
       "      <td>ARMA(1,0,1)</td>\n",
       "      <td>0.016316</td>\n",
       "      <td>0.000266</td>\n",
       "      <td>0.011666</td>\n",
       "    </tr>\n",
       "    <tr>\n",
       "      <th>1</th>\n",
       "      <td>ARMA_ANN</td>\n",
       "      <td>0.014815</td>\n",
       "      <td>0.000219</td>\n",
       "      <td>0.010795</td>\n",
       "    </tr>\n",
       "  </tbody>\n",
       "</table>\n",
       "</div>"
      ],
      "text/plain": [
       "    Model Name      RMSE       MSE       MAE\n",
       "0  ARMA(1,0,1)  0.016316  0.000266  0.011666\n",
       "1     ARMA_ANN  0.014815  0.000219  0.010795"
      ]
     },
     "execution_count": 18,
     "metadata": {},
     "output_type": "execute_result"
    }
   ],
   "source": [
    "Metrics_DF= Metrics_DF.append({\"Model Name\":'ARMA_ANN',\n",
    "                        \"RMSE\": arma_ann_rmse,\n",
    "                        \"MSE\": arma_ann_mse,\n",
    "                        \"MAE\": arma_ann_mae},ignore_index=True)\n",
    "\n",
    "Metrics_DF"
   ]
  },
  {
   "cell_type": "markdown",
   "metadata": {},
   "source": [
    "### Garch Model"
   ]
  },
  {
   "cell_type": "code",
   "execution_count": 19,
   "metadata": {},
   "outputs": [
    {
     "name": "stdout",
     "output_type": "stream",
     "text": [
      "Iteration:      1,   Func. Count:      6,   Neg. LLF: 1257924457.5860288\n",
      "Iteration:      2,   Func. Count:     18,   Neg. LLF: 966816579.6052378\n",
      "Iteration:      3,   Func. Count:     30,   Neg. LLF: 96642685692.69171\n",
      "Iteration:      4,   Func. Count:     43,   Neg. LLF: -8846.268472786567\n",
      "Optimization terminated successfully    (Exit mode 0)\n",
      "            Current function value: -8846.268469651932\n",
      "            Iterations: 8\n",
      "            Function evaluations: 43\n",
      "            Gradient evaluations: 4\n"
     ]
    },
    {
     "name": "stderr",
     "output_type": "stream",
     "text": [
      "c:\\Users\\chakr\\AppData\\Local\\Programs\\Python\\Python310\\lib\\site-packages\\arch\\univariate\\base.py:310: DataScaleWarning: y is poorly scaled, which may affect convergence of the optimizer when\n",
      "estimating the model parameters. The scale of y is 0.0002665. Parameter\n",
      "estimation work better when this value is between 1 and 1000. The recommended\n",
      "rescaling is 100 * y.\n",
      "\n",
      "This warning can be disabled by either rescaling y before initializing the\n",
      "model or by setting rescale=False.\n",
      "\n",
      "  warnings.warn(\n"
     ]
    }
   ],
   "source": [
    "garch_order = (1, 1)  # Replace with the appropriate GARCH order (p, q)\n",
    "garch_model = arch.arch_model(return_values, vol='Garch', p=garch_order[0], q=garch_order[1])\n",
    "garch_results = garch_model.fit()"
   ]
  },
  {
   "cell_type": "code",
   "execution_count": 20,
   "metadata": {},
   "outputs": [],
   "source": [
    "predicted_volatility = garch_results.conditional_volatility"
   ]
  },
  {
   "cell_type": "code",
   "execution_count": 21,
   "metadata": {},
   "outputs": [
    {
     "data": {
      "text/html": [
       "<div>\n",
       "<style scoped>\n",
       "    .dataframe tbody tr th:only-of-type {\n",
       "        vertical-align: middle;\n",
       "    }\n",
       "\n",
       "    .dataframe tbody tr th {\n",
       "        vertical-align: top;\n",
       "    }\n",
       "\n",
       "    .dataframe thead th {\n",
       "        text-align: right;\n",
       "    }\n",
       "</style>\n",
       "<table border=\"1\" class=\"dataframe\">\n",
       "  <thead>\n",
       "    <tr style=\"text-align: right;\">\n",
       "      <th></th>\n",
       "      <th>Model Name</th>\n",
       "      <th>RMSE</th>\n",
       "      <th>MSE</th>\n",
       "      <th>MAE</th>\n",
       "    </tr>\n",
       "  </thead>\n",
       "  <tbody>\n",
       "    <tr>\n",
       "      <th>0</th>\n",
       "      <td>ARMA(1,0,1)</td>\n",
       "      <td>0.016316</td>\n",
       "      <td>0.000266</td>\n",
       "      <td>0.011666</td>\n",
       "    </tr>\n",
       "    <tr>\n",
       "      <th>1</th>\n",
       "      <td>ARMA_ANN</td>\n",
       "      <td>0.014815</td>\n",
       "      <td>0.000219</td>\n",
       "      <td>0.010795</td>\n",
       "    </tr>\n",
       "    <tr>\n",
       "      <th>2</th>\n",
       "      <td>GARCH(1,1)</td>\n",
       "      <td>0.022628</td>\n",
       "      <td>0.000512</td>\n",
       "      <td>0.018593</td>\n",
       "    </tr>\n",
       "  </tbody>\n",
       "</table>\n",
       "</div>"
      ],
      "text/plain": [
       "    Model Name      RMSE       MSE       MAE\n",
       "0  ARMA(1,0,1)  0.016316  0.000266  0.011666\n",
       "1     ARMA_ANN  0.014815  0.000219  0.010795\n",
       "2   GARCH(1,1)  0.022628  0.000512  0.018593"
      ]
     },
     "execution_count": 21,
     "metadata": {},
     "output_type": "execute_result"
    }
   ],
   "source": [
    "mse_garch = np.mean((return_values - predicted_volatility)**2)\n",
    "mae_garch = np.mean( np.abs(return_values - predicted_volatility))\n",
    "rmse_garch = np.sqrt(mse_garch)\n",
    "\n",
    "# Append GARCH model metrics to the DataFrame\n",
    "Garch_Metrics_DF = pd.DataFrame([{\n",
    "    \"Model Name\": \"GARCH(1,1)\",\n",
    "    \"RMSE\": rmse_garch,\n",
    "    \"MSE\": mse_garch,\n",
    "    \"MAE\": mae_garch\n",
    "}])\n",
    "\n",
    "Metrics_DF = pd.concat([Metrics_DF, Garch_Metrics_DF],ignore_index=True)\n",
    "Metrics_DF"
   ]
  },
  {
   "cell_type": "markdown",
   "metadata": {},
   "source": [
    "## ARMA-GARCH"
   ]
  },
  {
   "cell_type": "code",
   "execution_count": 22,
   "metadata": {},
   "outputs": [
    {
     "name": "stderr",
     "output_type": "stream",
     "text": [
      "c:\\Users\\chakr\\AppData\\Local\\Programs\\Python\\Python310\\lib\\site-packages\\statsmodels\\tsa\\base\\tsa_model.py:471: ValueWarning: An unsupported index was provided and will be ignored when e.g. forecasting.\n",
      "  self._init_dates(dates, freq)\n",
      "c:\\Users\\chakr\\AppData\\Local\\Programs\\Python\\Python310\\lib\\site-packages\\statsmodels\\tsa\\base\\tsa_model.py:471: ValueWarning: An unsupported index was provided and will be ignored when e.g. forecasting.\n",
      "  self._init_dates(dates, freq)\n",
      "c:\\Users\\chakr\\AppData\\Local\\Programs\\Python\\Python310\\lib\\site-packages\\statsmodels\\tsa\\base\\tsa_model.py:471: ValueWarning: An unsupported index was provided and will be ignored when e.g. forecasting.\n",
      "  self._init_dates(dates, freq)\n"
     ]
    }
   ],
   "source": [
    "arma_order = (1, 0, 1)  \n",
    "arma_model = sm.tsa.arima.ARIMA(return_values, order=arma_order)\n",
    "arma_results = arma_model.fit()"
   ]
  },
  {
   "cell_type": "code",
   "execution_count": 23,
   "metadata": {},
   "outputs": [
    {
     "name": "stdout",
     "output_type": "stream",
     "text": [
      "Iteration:      1,   Func. Count:      6,   Neg. LLF: 1005382334.6588221\n",
      "Iteration:      2,   Func. Count:     18,   Neg. LLF: 786860018.1550611\n",
      "Iteration:      3,   Func. Count:     30,   Neg. LLF: 145203160.72969344\n",
      "Iteration:      4,   Func. Count:     42,   Neg. LLF: 32654161.946744677\n",
      "Iteration:      5,   Func. Count:     54,   Neg. LLF: 33464362471.655235\n",
      "Iteration:      6,   Func. Count:     68,   Neg. LLF: 477956172.689823\n",
      "Optimization terminated successfully    (Exit mode 0)\n",
      "            Current function value: -8849.30343640269\n",
      "            Iterations: 9\n",
      "            Function evaluations: 77\n",
      "            Gradient evaluations: 6\n"
     ]
    },
    {
     "name": "stderr",
     "output_type": "stream",
     "text": [
      "c:\\Users\\chakr\\AppData\\Local\\Programs\\Python\\Python310\\lib\\site-packages\\arch\\univariate\\base.py:310: DataScaleWarning: y is poorly scaled, which may affect convergence of the optimizer when\n",
      "estimating the model parameters. The scale of y is 0.0002662. Parameter\n",
      "estimation work better when this value is between 1 and 1000. The recommended\n",
      "rescaling is 100 * y.\n",
      "\n",
      "This warning can be disabled by either rescaling y before initializing the\n",
      "model or by setting rescale=False.\n",
      "\n",
      "  warnings.warn(\n"
     ]
    }
   ],
   "source": [
    "garch_order = (1, 1)  # Replace with the appropriate GARCH order (p, q)\n",
    "arma_garch_model = arch.arch_model(arma_results.resid, vol='Garch', p=garch_order[0], q=garch_order[1])\n",
    "arma_garch_results = arma_garch_model.fit()"
   ]
  },
  {
   "cell_type": "code",
   "execution_count": 24,
   "metadata": {},
   "outputs": [],
   "source": [
    "arma_garch_predicted_volatility = arma_garch_results.conditional_volatility"
   ]
  },
  {
   "cell_type": "code",
   "execution_count": 25,
   "metadata": {},
   "outputs": [],
   "source": [
    "mse_arma_garch = np.mean((return_values - arma_garch_predicted_volatility)**2)\n",
    "mae_arma_garch = np.mean( np.abs(return_values - arma_garch_predicted_volatility))\n",
    "rmse_arma_garch = np.sqrt(mse_garch)"
   ]
  },
  {
   "cell_type": "code",
   "execution_count": 26,
   "metadata": {},
   "outputs": [
    {
     "data": {
      "text/html": [
       "<div>\n",
       "<style scoped>\n",
       "    .dataframe tbody tr th:only-of-type {\n",
       "        vertical-align: middle;\n",
       "    }\n",
       "\n",
       "    .dataframe tbody tr th {\n",
       "        vertical-align: top;\n",
       "    }\n",
       "\n",
       "    .dataframe thead th {\n",
       "        text-align: right;\n",
       "    }\n",
       "</style>\n",
       "<table border=\"1\" class=\"dataframe\">\n",
       "  <thead>\n",
       "    <tr style=\"text-align: right;\">\n",
       "      <th></th>\n",
       "      <th>Model Name</th>\n",
       "      <th>RMSE</th>\n",
       "      <th>MSE</th>\n",
       "      <th>MAE</th>\n",
       "    </tr>\n",
       "  </thead>\n",
       "  <tbody>\n",
       "    <tr>\n",
       "      <th>0</th>\n",
       "      <td>ARMA(1,0,1)</td>\n",
       "      <td>0.016316</td>\n",
       "      <td>0.000266</td>\n",
       "      <td>0.011666</td>\n",
       "    </tr>\n",
       "    <tr>\n",
       "      <th>1</th>\n",
       "      <td>ARMA_ANN</td>\n",
       "      <td>0.014815</td>\n",
       "      <td>0.000219</td>\n",
       "      <td>0.010795</td>\n",
       "    </tr>\n",
       "    <tr>\n",
       "      <th>2</th>\n",
       "      <td>GARCH(1,1)</td>\n",
       "      <td>0.022628</td>\n",
       "      <td>0.000512</td>\n",
       "      <td>0.018593</td>\n",
       "    </tr>\n",
       "    <tr>\n",
       "      <th>3</th>\n",
       "      <td>ARMA-GARCH</td>\n",
       "      <td>0.022628</td>\n",
       "      <td>0.000512</td>\n",
       "      <td>0.018584</td>\n",
       "    </tr>\n",
       "  </tbody>\n",
       "</table>\n",
       "</div>"
      ],
      "text/plain": [
       "    Model Name      RMSE       MSE       MAE\n",
       "0  ARMA(1,0,1)  0.016316  0.000266  0.011666\n",
       "1     ARMA_ANN  0.014815  0.000219  0.010795\n",
       "2   GARCH(1,1)  0.022628  0.000512  0.018593\n",
       "3   ARMA-GARCH  0.022628  0.000512  0.018584"
      ]
     },
     "execution_count": 26,
     "metadata": {},
     "output_type": "execute_result"
    }
   ],
   "source": [
    "arma_garch_metrics = pd.DataFrame([{\"Model Name\": \"ARMA-GARCH\",\n",
    "    \"RMSE\": rmse_arma_garch,\n",
    "    \"MSE\": mse_arma_garch,\n",
    "    \"MAE\": mae_arma_garch}])\n",
    "\n",
    "Metrics_DF = pd.concat([Metrics_DF, arma_garch_metrics],ignore_index=True)\n",
    "Metrics_DF\n"
   ]
  },
  {
   "cell_type": "markdown",
   "metadata": {},
   "source": [
    "### ARMA-GARCH-ANN"
   ]
  },
  {
   "cell_type": "code",
   "execution_count": 27,
   "metadata": {},
   "outputs": [],
   "source": [
    "residuals = arma_garch_results.resid"
   ]
  },
  {
   "cell_type": "code",
   "execution_count": 28,
   "metadata": {},
   "outputs": [
    {
     "name": "stdout",
     "output_type": "stream",
     "text": [
      "          Xt_1      Xt_2      et_1      et_2        Yt\n",
      "3    -0.009601 -0.006166 -0.010407 -0.006750  0.004623\n",
      "4     0.004623 -0.009601  0.003704 -0.010407  0.001485\n",
      "5     0.001485  0.004623  0.001037  0.003704  0.004744\n",
      "6     0.004744  0.001485  0.004191  0.001037 -0.012541\n",
      "7    -0.012541  0.004744 -0.012985  0.004191  0.014343\n",
      "...        ...       ...       ...       ...       ...\n",
      "3240 -0.005608 -0.000316 -0.006225  0.000240 -0.006950\n",
      "3241 -0.006950 -0.005608 -0.007738 -0.006225 -0.011678\n",
      "3242 -0.011678 -0.006950 -0.012509 -0.007738  0.006434\n",
      "3243  0.006434 -0.011678  0.005447 -0.012509 -0.002051\n",
      "3244 -0.002051  0.006434 -0.002437  0.005447 -0.003707\n",
      "\n",
      "[3242 rows x 5 columns]\n"
     ]
    }
   ],
   "source": [
    "# Lagged Values of the actual return price \n",
    "Xt_1 = return_values.shift(1)\n",
    "Xt_2 = return_values.shift(2)\n",
    "\n",
    "\n",
    "# Lagged Values of the Residuals\n",
    "et_1 = residuals.shift(1)\n",
    "et_2 = residuals.shift(2)\n",
    "\n",
    "# Creating the dataframe\n",
    "arma_garch_ann_df = pd.DataFrame({\n",
    "    'Xt_1': Xt_1,\n",
    "    'Xt_2': Xt_2,\n",
    "    'et_1': et_1,\n",
    "    'et_2': et_2,\n",
    "    'Yt': return_values\n",
    "})\n",
    "\n",
    "# Droping the null values \n",
    "arma_garch_ann_df.dropna(inplace=True)\n",
    "\n",
    "#Printing the data\n",
    "print(arma_garch_ann_df)"
   ]
  },
  {
   "cell_type": "code",
   "execution_count": 29,
   "metadata": {},
   "outputs": [
    {
     "name": "stdout",
     "output_type": "stream",
     "text": [
      "Epoch 1/50\n"
     ]
    },
    {
     "name": "stderr",
     "output_type": "stream",
     "text": [
      "C:\\Users\\chakr\\AppData\\Local\\Temp\\ipykernel_10660\\1117127597.py:19: FutureWarning: The behavior of `series[i:j]` with an integer-dtype index is deprecated. In a future version, this will be treated as *label-based* indexing, consistent with e.g. `series[i]` lookups. To retain the old behavior, use `series.iloc[i:j]`. To get the future behavior, use `series.loc[i:j]`.\n",
      "  y_train, y_test = y[:train_size], y[train_size:]\n",
      "c:\\Users\\chakr\\AppData\\Local\\Programs\\Python\\Python310\\lib\\site-packages\\keras\\engine\\data_adapter.py:1696: FutureWarning: The behavior of `series[i:j]` with an integer-dtype index is deprecated. In a future version, this will be treated as *label-based* indexing, consistent with e.g. `series[i]` lookups. To retain the old behavior, use `series.iloc[i:j]`. To get the future behavior, use `series.loc[i:j]`.\n",
      "  return t[start:end]\n"
     ]
    },
    {
     "name": "stdout",
     "output_type": "stream",
     "text": [
      "73/73 [==============================] - 1s 4ms/step - loss: 0.0030 - val_loss: 7.1818e-04\n",
      "Epoch 2/50\n",
      "73/73 [==============================] - 0s 2ms/step - loss: 2.8520e-04 - val_loss: 6.7891e-04\n",
      "Epoch 3/50\n",
      "73/73 [==============================] - 0s 2ms/step - loss: 2.6021e-04 - val_loss: 6.9591e-04\n",
      "Epoch 4/50\n",
      "73/73 [==============================] - 0s 2ms/step - loss: 2.5447e-04 - val_loss: 6.6928e-04\n",
      "Epoch 5/50\n",
      "73/73 [==============================] - 0s 2ms/step - loss: 2.4965e-04 - val_loss: 6.5446e-04\n",
      "Epoch 6/50\n",
      "73/73 [==============================] - 0s 2ms/step - loss: 2.4883e-04 - val_loss: 6.5056e-04\n",
      "Epoch 7/50\n",
      "73/73 [==============================] - 0s 2ms/step - loss: 2.4498e-04 - val_loss: 6.2691e-04\n",
      "Epoch 8/50\n",
      "73/73 [==============================] - 0s 2ms/step - loss: 2.4630e-04 - val_loss: 6.1722e-04\n",
      "Epoch 9/50\n",
      "73/73 [==============================] - 0s 2ms/step - loss: 2.4252e-04 - val_loss: 6.5836e-04\n",
      "Epoch 10/50\n",
      "73/73 [==============================] - 0s 3ms/step - loss: 2.4704e-04 - val_loss: 6.2974e-04\n",
      "Epoch 11/50\n",
      "73/73 [==============================] - 0s 2ms/step - loss: 2.4872e-04 - val_loss: 6.1370e-04\n",
      "Epoch 12/50\n",
      "73/73 [==============================] - 0s 2ms/step - loss: 2.4330e-04 - val_loss: 6.5707e-04\n",
      "Epoch 13/50\n",
      "73/73 [==============================] - 0s 2ms/step - loss: 2.4399e-04 - val_loss: 6.3264e-04\n",
      "Epoch 14/50\n",
      "73/73 [==============================] - 0s 2ms/step - loss: 2.4542e-04 - val_loss: 6.7499e-04\n",
      "Epoch 15/50\n",
      "73/73 [==============================] - 0s 2ms/step - loss: 2.4330e-04 - val_loss: 6.1994e-04\n",
      "Epoch 16/50\n",
      "73/73 [==============================] - 0s 2ms/step - loss: 2.4957e-04 - val_loss: 6.4400e-04\n",
      "Epoch 17/50\n",
      "73/73 [==============================] - 0s 2ms/step - loss: 2.4244e-04 - val_loss: 6.6383e-04\n",
      "Epoch 18/50\n",
      "73/73 [==============================] - 0s 2ms/step - loss: 2.4143e-04 - val_loss: 6.4076e-04\n",
      "Epoch 19/50\n",
      "73/73 [==============================] - 0s 2ms/step - loss: 2.4921e-04 - val_loss: 6.4120e-04\n",
      "Epoch 20/50\n",
      "73/73 [==============================] - 0s 2ms/step - loss: 2.4274e-04 - val_loss: 6.3211e-04\n",
      "Epoch 21/50\n",
      "73/73 [==============================] - 0s 2ms/step - loss: 2.4428e-04 - val_loss: 6.4287e-04\n",
      "Epoch 22/50\n",
      "73/73 [==============================] - 0s 3ms/step - loss: 2.4499e-04 - val_loss: 6.4665e-04\n",
      "Epoch 23/50\n",
      "73/73 [==============================] - 0s 3ms/step - loss: 2.4258e-04 - val_loss: 6.3819e-04\n",
      "Epoch 24/50\n",
      "73/73 [==============================] - 0s 3ms/step - loss: 2.4186e-04 - val_loss: 6.1446e-04\n",
      "Epoch 25/50\n",
      "73/73 [==============================] - 0s 3ms/step - loss: 2.4098e-04 - val_loss: 6.4121e-04\n",
      "Epoch 26/50\n",
      "73/73 [==============================] - 0s 3ms/step - loss: 2.4454e-04 - val_loss: 6.1495e-04\n",
      "Epoch 27/50\n",
      "73/73 [==============================] - 0s 3ms/step - loss: 2.4705e-04 - val_loss: 6.1665e-04\n",
      "Epoch 28/50\n",
      "73/73 [==============================] - 0s 3ms/step - loss: 2.4239e-04 - val_loss: 6.1622e-04\n",
      "Epoch 29/50\n",
      "73/73 [==============================] - 0s 3ms/step - loss: 2.4414e-04 - val_loss: 6.7155e-04\n",
      "Epoch 30/50\n",
      "73/73 [==============================] - 0s 3ms/step - loss: 2.4308e-04 - val_loss: 6.4033e-04\n",
      "Epoch 31/50\n",
      "73/73 [==============================] - 0s 3ms/step - loss: 2.4063e-04 - val_loss: 6.4405e-04\n",
      "Epoch 32/50\n",
      "73/73 [==============================] - 0s 2ms/step - loss: 2.4235e-04 - val_loss: 6.3581e-04\n",
      "Epoch 33/50\n",
      "73/73 [==============================] - 0s 2ms/step - loss: 2.4270e-04 - val_loss: 6.2749e-04\n",
      "Epoch 34/50\n",
      "73/73 [==============================] - 0s 2ms/step - loss: 2.4196e-04 - val_loss: 6.0762e-04\n",
      "Epoch 35/50\n",
      "73/73 [==============================] - 0s 2ms/step - loss: 2.4550e-04 - val_loss: 6.1380e-04\n",
      "Epoch 36/50\n",
      "73/73 [==============================] - 0s 2ms/step - loss: 2.4273e-04 - val_loss: 6.3689e-04\n",
      "Epoch 37/50\n",
      "73/73 [==============================] - 0s 3ms/step - loss: 2.4157e-04 - val_loss: 6.2531e-04\n",
      "Epoch 38/50\n",
      "73/73 [==============================] - 0s 2ms/step - loss: 2.4167e-04 - val_loss: 6.5888e-04\n",
      "Epoch 39/50\n",
      "73/73 [==============================] - 0s 2ms/step - loss: 2.4628e-04 - val_loss: 6.2328e-04\n",
      "Epoch 40/50\n",
      "73/73 [==============================] - 0s 2ms/step - loss: 2.4345e-04 - val_loss: 6.2910e-04\n",
      "Epoch 41/50\n",
      "73/73 [==============================] - 0s 2ms/step - loss: 2.4065e-04 - val_loss: 6.1326e-04\n",
      "Epoch 42/50\n",
      "73/73 [==============================] - 0s 2ms/step - loss: 2.4142e-04 - val_loss: 6.3227e-04\n",
      "Epoch 43/50\n",
      "73/73 [==============================] - 0s 2ms/step - loss: 2.4007e-04 - val_loss: 6.0105e-04\n",
      "Epoch 44/50\n",
      "73/73 [==============================] - 0s 2ms/step - loss: 2.4417e-04 - val_loss: 6.6036e-04\n",
      "Epoch 45/50\n",
      "73/73 [==============================] - 0s 2ms/step - loss: 2.4185e-04 - val_loss: 6.1950e-04\n",
      "Epoch 46/50\n",
      "73/73 [==============================] - 0s 2ms/step - loss: 2.4099e-04 - val_loss: 6.2854e-04\n",
      "Epoch 47/50\n",
      "73/73 [==============================] - 0s 2ms/step - loss: 2.4098e-04 - val_loss: 5.9868e-04\n",
      "Epoch 48/50\n",
      "73/73 [==============================] - 0s 2ms/step - loss: 2.4132e-04 - val_loss: 6.1664e-04\n",
      "Epoch 49/50\n",
      "73/73 [==============================] - 0s 2ms/step - loss: 2.3993e-04 - val_loss: 6.1289e-04\n",
      "Epoch 50/50\n",
      "73/73 [==============================] - 0s 2ms/step - loss: 2.4315e-04 - val_loss: 6.3954e-04\n",
      "21/21 [==============================] - 0s 2ms/step - loss: 2.2296e-04\n",
      "Test Loss: 0.0002229576202807948\n",
      "1/1 [==============================] - 0s 113ms/step\n",
      "Predicted Value: -0.000650974\n"
     ]
    },
    {
     "name": "stderr",
     "output_type": "stream",
     "text": [
      "c:\\Users\\chakr\\AppData\\Local\\Programs\\Python\\Python310\\lib\\site-packages\\sklearn\\base.py:409: UserWarning: X does not have valid feature names, but StandardScaler was fitted with feature names\n",
      "  warnings.warn(\n"
     ]
    },
    {
     "name": "stdout",
     "output_type": "stream",
     "text": [
      "21/21 [==============================] - 0s 2ms/step\n"
     ]
    }
   ],
   "source": [
    "X = arma_garch_ann_df[['Xt_1', 'Xt_2', 'et_1', 'et_2']]\n",
    "y = arma_garch_ann_df['Yt']\n",
    "\n",
    "\n",
    "scaler = StandardScaler()\n",
    "X = scaler.fit_transform(X)\n",
    "\n",
    "\n",
    "model = Sequential()\n",
    "model.add(Dense(units=32, activation='relu', input_shape=(X.shape[1],)))\n",
    "model.add(Dense(units=16, activation='relu'))\n",
    "model.add(Dense(units=8, activation='relu'))\n",
    "model.add(Dense(units=1, activation='linear'))\n",
    "model.compile(optimizer='adam', loss='mean_squared_error')\n",
    "\n",
    "\n",
    "train_size = int(0.8 * len(X))  \n",
    "X_train, X_test = X[:train_size], X[train_size:]\n",
    "y_train, y_test = y[:train_size], y[train_size:]\n",
    "\n",
    "history = model.fit(X_train, y_train, epochs=50, batch_size=32, validation_split=0.1)\n",
    "\n",
    "\n",
    "test_loss = model.evaluate(X_test, y_test)\n",
    "print(\"Test Loss:\", test_loss)\n",
    "\n",
    "\n",
    "new_data = np.array([[-0.014049,0.034767,-0.015659,0.033157]])\n",
    "new_data = scaler.transform(new_data)  \n",
    "prediction = model.predict(new_data)\n",
    "print(\"Predicted Value:\", prediction[0][0])\n",
    "\n",
    "y_pred = model.predict(X_test)"
   ]
  },
  {
   "cell_type": "code",
   "execution_count": 30,
   "metadata": {},
   "outputs": [
    {
     "name": "stdout",
     "output_type": "stream",
     "text": [
      "Root Mean Squared Error (RMSE): 0.01493176585602245\n",
      "Mean Absolute Error (MAE): 0.010846118555750716\n"
     ]
    }
   ],
   "source": [
    "rmse1 = np.sqrt(mean_squared_error(y_test, y_pred))\n",
    "print(\"Root Mean Squared Error (RMSE):\", rmse1)\n",
    "\n",
    "mse1 = mean_squared_error(y_test, y_pred)\n",
    "# Calculate MAE\n",
    "mae1 = mean_absolute_error(y_test, y_pred)\n",
    "print(\"Mean Absolute Error (MAE):\", mae1)"
   ]
  },
  {
   "cell_type": "code",
   "execution_count": 31,
   "metadata": {},
   "outputs": [],
   "source": [
    "arma_garch_ann_metrics = pd.DataFrame([{\"Model Name\": \"ARMA-GARCH-ANN\",\n",
    "    \"RMSE\": rmse1,\n",
    "    \"MSE\": mse1,\n",
    "    \"MAE\": mae1}])"
   ]
  },
  {
   "cell_type": "code",
   "execution_count": 32,
   "metadata": {},
   "outputs": [
    {
     "data": {
      "text/html": [
       "<div>\n",
       "<style scoped>\n",
       "    .dataframe tbody tr th:only-of-type {\n",
       "        vertical-align: middle;\n",
       "    }\n",
       "\n",
       "    .dataframe tbody tr th {\n",
       "        vertical-align: top;\n",
       "    }\n",
       "\n",
       "    .dataframe thead th {\n",
       "        text-align: right;\n",
       "    }\n",
       "</style>\n",
       "<table border=\"1\" class=\"dataframe\">\n",
       "  <thead>\n",
       "    <tr style=\"text-align: right;\">\n",
       "      <th></th>\n",
       "      <th>Model Name</th>\n",
       "      <th>RMSE</th>\n",
       "      <th>MSE</th>\n",
       "      <th>MAE</th>\n",
       "    </tr>\n",
       "  </thead>\n",
       "  <tbody>\n",
       "    <tr>\n",
       "      <th>0</th>\n",
       "      <td>ARMA(1,0,1)</td>\n",
       "      <td>0.016316</td>\n",
       "      <td>0.000266</td>\n",
       "      <td>0.011666</td>\n",
       "    </tr>\n",
       "    <tr>\n",
       "      <th>1</th>\n",
       "      <td>ARMA_ANN</td>\n",
       "      <td>0.014815</td>\n",
       "      <td>0.000219</td>\n",
       "      <td>0.010795</td>\n",
       "    </tr>\n",
       "    <tr>\n",
       "      <th>2</th>\n",
       "      <td>GARCH(1,1)</td>\n",
       "      <td>0.022628</td>\n",
       "      <td>0.000512</td>\n",
       "      <td>0.018593</td>\n",
       "    </tr>\n",
       "    <tr>\n",
       "      <th>3</th>\n",
       "      <td>ARMA-GARCH</td>\n",
       "      <td>0.022628</td>\n",
       "      <td>0.000512</td>\n",
       "      <td>0.018584</td>\n",
       "    </tr>\n",
       "    <tr>\n",
       "      <th>4</th>\n",
       "      <td>ARMA-GARCH-ANN</td>\n",
       "      <td>0.014932</td>\n",
       "      <td>0.000223</td>\n",
       "      <td>0.010846</td>\n",
       "    </tr>\n",
       "  </tbody>\n",
       "</table>\n",
       "</div>"
      ],
      "text/plain": [
       "       Model Name      RMSE       MSE       MAE\n",
       "0     ARMA(1,0,1)  0.016316  0.000266  0.011666\n",
       "1        ARMA_ANN  0.014815  0.000219  0.010795\n",
       "2      GARCH(1,1)  0.022628  0.000512  0.018593\n",
       "3      ARMA-GARCH  0.022628  0.000512  0.018584\n",
       "4  ARMA-GARCH-ANN  0.014932  0.000223  0.010846"
      ]
     },
     "execution_count": 32,
     "metadata": {},
     "output_type": "execute_result"
    }
   ],
   "source": [
    "Metrics_DF = pd.concat([Metrics_DF,arma_garch_ann_metrics], ignore_index= True)\n",
    "Metrics_DF"
   ]
  },
  {
   "cell_type": "markdown",
   "metadata": {},
   "source": [
    "### Clustering Method"
   ]
  },
  {
   "cell_type": "markdown",
   "metadata": {},
   "source": [
    "## Determining the number of clusters using two diferent methods."
   ]
  },
  {
   "cell_type": "markdown",
   "metadata": {},
   "source": [
    "### 1. Elbow Method "
   ]
  },
  {
   "cell_type": "code",
   "execution_count": 33,
   "metadata": {},
   "outputs": [
    {
     "name": "stderr",
     "output_type": "stream",
     "text": [
      "c:\\Users\\chakr\\AppData\\Local\\Programs\\Python\\Python310\\lib\\site-packages\\sklearn\\cluster\\_kmeans.py:870: FutureWarning: The default value of `n_init` will change from 10 to 'auto' in 1.4. Set the value of `n_init` explicitly to suppress the warning\n",
      "  warnings.warn(\n",
      "c:\\Users\\chakr\\AppData\\Local\\Programs\\Python\\Python310\\lib\\site-packages\\sklearn\\cluster\\_kmeans.py:870: FutureWarning: The default value of `n_init` will change from 10 to 'auto' in 1.4. Set the value of `n_init` explicitly to suppress the warning\n",
      "  warnings.warn(\n",
      "c:\\Users\\chakr\\AppData\\Local\\Programs\\Python\\Python310\\lib\\site-packages\\sklearn\\cluster\\_kmeans.py:870: FutureWarning: The default value of `n_init` will change from 10 to 'auto' in 1.4. Set the value of `n_init` explicitly to suppress the warning\n",
      "  warnings.warn(\n",
      "c:\\Users\\chakr\\AppData\\Local\\Programs\\Python\\Python310\\lib\\site-packages\\sklearn\\cluster\\_kmeans.py:870: FutureWarning: The default value of `n_init` will change from 10 to 'auto' in 1.4. Set the value of `n_init` explicitly to suppress the warning\n",
      "  warnings.warn(\n",
      "c:\\Users\\chakr\\AppData\\Local\\Programs\\Python\\Python310\\lib\\site-packages\\sklearn\\cluster\\_kmeans.py:870: FutureWarning: The default value of `n_init` will change from 10 to 'auto' in 1.4. Set the value of `n_init` explicitly to suppress the warning\n",
      "  warnings.warn(\n",
      "c:\\Users\\chakr\\AppData\\Local\\Programs\\Python\\Python310\\lib\\site-packages\\sklearn\\cluster\\_kmeans.py:870: FutureWarning: The default value of `n_init` will change from 10 to 'auto' in 1.4. Set the value of `n_init` explicitly to suppress the warning\n",
      "  warnings.warn(\n",
      "c:\\Users\\chakr\\AppData\\Local\\Programs\\Python\\Python310\\lib\\site-packages\\sklearn\\cluster\\_kmeans.py:870: FutureWarning: The default value of `n_init` will change from 10 to 'auto' in 1.4. Set the value of `n_init` explicitly to suppress the warning\n",
      "  warnings.warn(\n",
      "c:\\Users\\chakr\\AppData\\Local\\Programs\\Python\\Python310\\lib\\site-packages\\sklearn\\cluster\\_kmeans.py:870: FutureWarning: The default value of `n_init` will change from 10 to 'auto' in 1.4. Set the value of `n_init` explicitly to suppress the warning\n",
      "  warnings.warn(\n",
      "c:\\Users\\chakr\\AppData\\Local\\Programs\\Python\\Python310\\lib\\site-packages\\sklearn\\cluster\\_kmeans.py:870: FutureWarning: The default value of `n_init` will change from 10 to 'auto' in 1.4. Set the value of `n_init` explicitly to suppress the warning\n",
      "  warnings.warn(\n",
      "c:\\Users\\chakr\\AppData\\Local\\Programs\\Python\\Python310\\lib\\site-packages\\sklearn\\cluster\\_kmeans.py:870: FutureWarning: The default value of `n_init` will change from 10 to 'auto' in 1.4. Set the value of `n_init` explicitly to suppress the warning\n",
      "  warnings.warn(\n"
     ]
    },
    {
     "data": {
      "image/png": "[encoded data removed]",
      "text/plain": [
       "<Figure size 640x480 with 1 Axes>"
      ]
     },
     "metadata": {},
     "output_type": "display_data"
    }
   ],
   "source": [
    "import matplotlib.pyplot as plt\n",
    "\n",
    "\n",
    "stock1 = main_data[\"Close\"]\n",
    "stock1 = stock1.values.reshape(-1,1)\n",
    "\n",
    "num_clusters_range = range(1, 11)\n",
    "sse_values = []\n",
    "\n",
    "for num_clusters in num_clusters_range:\n",
    "    # Perform KMeans clustering\n",
    "    kmeans = KMeans(n_clusters=num_clusters, random_state=42)\n",
    "    kmeans.fit(stock1)\n",
    "    \n",
    "    # Calculate SSE (inertia)\n",
    "    sse = kmeans.inertia_\n",
    "    sse_values.append(sse)\n",
    "\n",
    "# Plotting the SSE values\n",
    "plt.plot(num_clusters_range, sse_values, marker='o')\n",
    "plt.xlabel('Number of Clusters')\n",
    "plt.ylabel('Sum of Squared Errors (SSE)')\n",
    "plt.title('Elbow Method for Optimal Cluster Number')\n",
    "plt.show()"
   ]
  },
  {
   "cell_type": "markdown",
   "metadata": {},
   "source": [
    "## Here we can conclude that optimal number of clusters can be 2 , but for more clearity we can use FPC "
   ]
  },
  {
   "cell_type": "markdown",
   "metadata": {},
   "source": [
    "# FPC (Fuzzy Partitioning Coefficients)"
   ]
  },
  {
   "cell_type": "code",
   "execution_count": 34,
   "metadata": {},
   "outputs": [
    {
     "name": "stdout",
     "output_type": "stream",
     "text": [
      "Number of clusters: 2, Fuzzy Partition Coefficient: 0.8035\n",
      "Number of clusters: 3, Fuzzy Partition Coefficient: 0.7574\n",
      "Number of clusters: 4, Fuzzy Partition Coefficient: 0.7421\n",
      "Number of clusters: 5, Fuzzy Partition Coefficient: 0.7205\n",
      "Number of clusters: 6, Fuzzy Partition Coefficient: 0.7153\n",
      "Number of clusters: 7, Fuzzy Partition Coefficient: 0.7067\n",
      "Number of clusters: 8, Fuzzy Partition Coefficient: 0.7116\n",
      "Number of clusters: 9, Fuzzy Partition Coefficient: 0.7046\n"
     ]
    },
    {
     "data": {
      "image/png": "[encoded data removed]",
      "text/plain": [
       "<Figure size 640x480 with 1 Axes>"
      ]
     },
     "metadata": {},
     "output_type": "display_data"
    }
   ],
   "source": [
    "import numpy as np\n",
    "import skfuzzy as fuzz\n",
    "from sklearn.preprocessing import StandardScaler\n",
    "import matplotlib.pyplot as plt\n",
    "\n",
    "daily_returns_series = return_values\n",
    "\n",
    "\n",
    "daily_returns_array = daily_returns_series.to_numpy().reshape(-1, 1)\n",
    "\n",
    "\n",
    "scaler = StandardScaler()\n",
    "standardized_returns = scaler.fit_transform(daily_returns_array)\n",
    "\n",
    "\n",
    "num_clusters_range = range(2, 10)\n",
    "\n",
    "# Initialize an empty list to store fuzzy partition coefficients\n",
    "fuzzy_partition_coefficients = []\n",
    "\n",
    "# Perform clustering and calculate fuzzy partition coefficient for different cluster counts\n",
    "for num_clusters in num_clusters_range:\n",
    "    cntr, u, u0, d, jm, p, fpc = fuzz.cluster.cmeans(\n",
    "        data=standardized_returns.T, c=num_clusters, m=2, error=0.005, maxiter=1000\n",
    "    )\n",
    "    fuzzy_partition_coefficients.append(fpc)\n",
    "\n",
    "    print(f\"Number of clusters: {num_clusters}, Fuzzy Partition Coefficient: {fpc:.4f}\")\n",
    "\n",
    "# Plot the results\n",
    "plt.figure()\n",
    "plt.plot(num_clusters_range, fuzzy_partition_coefficients, marker='o')\n",
    "plt.xlabel('Number of Clusters')\n",
    "plt.ylabel('Fuzzy Partition Coefficient')\n",
    "plt.title('Fuzzy Partition Coefficient vs Number of Clusters')\n",
    "plt.grid()\n",
    "plt.show()\n"
   ]
  },
  {
   "cell_type": "markdown",
   "metadata": {},
   "source": [
    "here we can clearly see that the optimal number of cluster is 2"
   ]
  },
  {
   "cell_type": "markdown",
   "metadata": {},
   "source": [
    "# Applying the step by step algorithm\n",
    "\n",
    "## 1. Data Splitting:\n",
    "Split your daily returns data into training and test sets. Let's assume you want to use, for instance, 80% of the data for training and 20% for testing.\n",
    "\n",
    "## 2. Clustering Model:\n",
    "Fit a Fuzzy C-means clustering model on the training data to identify the clusters. Since you know you have two clusters, set num_clusters = 2.\n",
    "\n",
    "## 3. Auto ARIMA Model for Each Cluster:\n",
    "For each cluster:\n",
    "Extract the daily returns corresponding to that cluster from the training data.\n",
    "Fit an Auto ARIMA model to the extracted daily returns.\n",
    "\n",
    "## 4. ARIMA Model Fitting:\n",
    "Fit the ARIMA models for each cluster using their respective training data.\n",
    "\n",
    "## 5. Cluster Prediction for Test Data:\n",
    "Use the clustering model to predict the cluster labels for the test data based on their daily returns.\n",
    "\n",
    "## 6. Predicting Prices for Each Cluster:\n",
    "For each data point in the test data:\n",
    "Determine the cluster it belongs to using the predicted cluster labels.\n",
    "Use the corresponding ARIMA model to forecast the stock price for that cluster.\n",
    "\n",
    "## 7. Ensemble Forecasted Prices:\n",
    "Combine the forecasted prices from the two ARIMA models to create the ensemble forecast.\n",
    "\n",
    "## 8. Comparison with Actual Data:\n",
    "Compare the ensemble forecasted prices with the actual test data to evaluate the accuracy of your model."
   ]
  },
  {
   "cell_type": "markdown",
   "metadata": {},
   "source": [
    "1"
   ]
  },
  {
   "cell_type": "code",
   "execution_count": 35,
   "metadata": {},
   "outputs": [],
   "source": [
    "# Train & Test Data\n",
    "train_data = standardized_returns[ : int(0.8* len(standardized_returns))]\n",
    "test_data = standardized_returns[int(0.8* len(standardized_returns)) : ]"
   ]
  },
  {
   "cell_type": "markdown",
   "metadata": {},
   "source": [
    "2"
   ]
  },
  {
   "cell_type": "code",
   "execution_count": 36,
   "metadata": {},
   "outputs": [],
   "source": [
    "# Fuzzy C-means clustering\n",
    "num_clusters = 2            #number of optimal cluster is 2 which we have found earlier \n",
    "cntr, u, u0, d, jm, p, fpc = fuzz.cluster.cmeans(\n",
    "    data=train_data.reshape(-1, 1).T, c=num_clusters, m=2, error=0.005, maxiter=1000\n",
    ")"
   ]
  },
  {
   "cell_type": "markdown",
   "metadata": {},
   "source": [
    "3"
   ]
  },
  {
   "cell_type": "code",
   "execution_count": 37,
   "metadata": {},
   "outputs": [
    {
     "name": "stdout",
     "output_type": "stream",
     "text": [
      "Performing stepwise search to minimize aic\n",
      " ARIMA(2,0,2)(0,0,0)[0]             : AIC=inf, Time=1.31 sec\n",
      " ARIMA(0,0,0)(0,0,0)[0]             : AIC=3991.465, Time=0.04 sec\n",
      " ARIMA(1,0,0)(0,0,0)[0]             : AIC=3433.721, Time=0.06 sec\n",
      " ARIMA(0,0,1)(0,0,0)[0]             : AIC=3655.624, Time=0.08 sec\n",
      " ARIMA(2,0,0)(0,0,0)[0]             : AIC=3283.462, Time=0.10 sec\n",
      " ARIMA(3,0,0)(0,0,0)[0]             : AIC=3176.616, Time=0.18 sec\n",
      " ARIMA(4,0,0)(0,0,0)[0]             : AIC=3140.525, Time=0.21 sec\n",
      " ARIMA(5,0,0)(0,0,0)[0]             : AIC=3118.093, Time=0.29 sec\n",
      " ARIMA(5,0,1)(0,0,0)[0]             : AIC=inf, Time=2.14 sec\n",
      " ARIMA(4,0,1)(0,0,0)[0]             : AIC=inf, Time=1.81 sec\n",
      " ARIMA(5,0,0)(0,0,0)[0] intercept   : AIC=2947.347, Time=0.48 sec\n",
      " ARIMA(4,0,0)(0,0,0)[0] intercept   : AIC=2945.407, Time=0.36 sec\n",
      " ARIMA(3,0,0)(0,0,0)[0] intercept   : AIC=2943.884, Time=0.32 sec\n",
      " ARIMA(2,0,0)(0,0,0)[0] intercept   : AIC=2952.493, Time=0.14 sec\n",
      " ARIMA(3,0,1)(0,0,0)[0] intercept   : AIC=2945.345, Time=0.97 sec\n",
      " ARIMA(2,0,1)(0,0,0)[0] intercept   : AIC=2946.395, Time=1.40 sec\n",
      " ARIMA(4,0,1)(0,0,0)[0] intercept   : AIC=2947.291, Time=1.84 sec\n",
      "\n",
      "Best model:  ARIMA(3,0,0)(0,0,0)[0] intercept\n",
      "Total fit time: 11.816 seconds\n",
      "Performing stepwise search to minimize aic\n",
      " ARIMA(2,1,2)(0,0,0)[0] intercept   : AIC=inf, Time=1.49 sec\n",
      " ARIMA(0,1,0)(0,0,0)[0] intercept   : AIC=3109.342, Time=0.03 sec\n",
      " ARIMA(1,1,0)(0,0,0)[0] intercept   : AIC=2797.726, Time=0.07 sec\n",
      " ARIMA(0,1,1)(0,0,0)[0] intercept   : AIC=2506.682, Time=0.34 sec\n",
      " ARIMA(0,1,0)(0,0,0)[0]             : AIC=3107.342, Time=0.02 sec\n",
      " ARIMA(1,1,1)(0,0,0)[0] intercept   : AIC=2503.674, Time=0.51 sec\n",
      " ARIMA(2,1,1)(0,0,0)[0] intercept   : AIC=2495.522, Time=0.64 sec\n",
      " ARIMA(2,1,0)(0,0,0)[0] intercept   : AIC=2699.787, Time=0.11 sec\n",
      " ARIMA(3,1,1)(0,0,0)[0] intercept   : AIC=2494.842, Time=1.03 sec\n",
      " ARIMA(3,1,0)(0,0,0)[0] intercept   : AIC=2636.619, Time=0.15 sec\n",
      " ARIMA(4,1,1)(0,0,0)[0] intercept   : AIC=inf, Time=1.55 sec\n",
      " ARIMA(3,1,2)(0,0,0)[0] intercept   : AIC=inf, Time=1.48 sec\n",
      " ARIMA(4,1,0)(0,0,0)[0] intercept   : AIC=2615.146, Time=0.19 sec\n",
      " ARIMA(4,1,2)(0,0,0)[0] intercept   : AIC=inf, Time=1.81 sec\n",
      " ARIMA(3,1,1)(0,0,0)[0]             : AIC=2493.566, Time=0.36 sec\n",
      " ARIMA(2,1,1)(0,0,0)[0]             : AIC=2494.002, Time=0.20 sec\n",
      " ARIMA(3,1,0)(0,0,0)[0]             : AIC=2634.619, Time=0.08 sec\n",
      " ARIMA(4,1,1)(0,0,0)[0]             : AIC=2490.810, Time=0.40 sec\n",
      " ARIMA(4,1,0)(0,0,0)[0]             : AIC=2613.147, Time=0.10 sec\n",
      " ARIMA(5,1,1)(0,0,0)[0]             : AIC=2492.737, Time=0.46 sec\n",
      " ARIMA(4,1,2)(0,0,0)[0]             : AIC=2469.584, Time=1.05 sec\n",
      " ARIMA(3,1,2)(0,0,0)[0]             : AIC=2477.930, Time=0.76 sec\n",
      " ARIMA(5,1,2)(0,0,0)[0]             : AIC=2471.489, Time=1.28 sec\n",
      " ARIMA(4,1,3)(0,0,0)[0]             : AIC=inf, Time=1.53 sec\n",
      " ARIMA(3,1,3)(0,0,0)[0]             : AIC=inf, Time=1.40 sec\n",
      " ARIMA(5,1,3)(0,0,0)[0]             : AIC=2471.551, Time=1.56 sec\n",
      "\n",
      "Best model:  ARIMA(4,1,2)(0,0,0)[0]          \n",
      "Total fit time: 18.595 seconds\n"
     ]
    }
   ],
   "source": [
    "# Initialize lists to store ARIMA models and their orders\n",
    "arima_orders = []\n",
    "# Iterate over clusters\n",
    "for cluster_id in range(num_clusters):\n",
    "    cluster_returns = train_data[u[cluster_id] > 0.5]  # Extract daily returns for the cluster\n",
    "\n",
    "\n",
    "    # Find optimal ARIMA order using pmdarima\n",
    "    arima_order = auto_arima(cluster_returns, seasonal=False, trace=True, suppress_warnings=True).order\n",
    "    arima_orders.append(arima_order)"
   ]
  },
  {
   "cell_type": "code",
   "execution_count": 38,
   "metadata": {},
   "outputs": [
    {
     "name": "stdout",
     "output_type": "stream",
     "text": [
      "The best fitted model for the two clusters are [(3, 0, 0), (4, 1, 2)]\n"
     ]
    }
   ],
   "source": [
    "print(\"The best fitted model for the two clusters are\",arima_orders)"
   ]
  },
  {
   "cell_type": "markdown",
   "metadata": {},
   "source": [
    "4"
   ]
  },
  {
   "cell_type": "code",
   "execution_count": 39,
   "metadata": {},
   "outputs": [],
   "source": [
    "# Initialize lists to store ARIMA models and their orders\n",
    "arima_models = []\n",
    "for cluster_id in range(num_clusters):\n",
    "    cluster_returns = train_data[u[cluster_id] > 0.5]  # Extract daily returns for the cluster\n",
    "    \n",
    "    # Fit ARIMA model using the identified order\n",
    "    arima_model = SARIMAX(cluster_returns, order=arima_orders[cluster_id])\n",
    "    arima_fit = arima_model.fit()\n",
    "    arima_models.append(arima_fit)"
   ]
  },
  {
   "cell_type": "code",
   "execution_count": null,
   "metadata": {},
   "outputs": [],
   "source": []
  },
  {
   "cell_type": "markdown",
   "metadata": {},
   "source": [
    "5"
   ]
  },
  {
   "cell_type": "code",
   "execution_count": 40,
   "metadata": {},
   "outputs": [],
   "source": [
    "ensemble_forecast = []\n",
    "for test_return in test_data:\n",
    "    predicted_membership = fuzz.cluster.cmeans_predict(\n",
    "        test_return.reshape(1, -1), cntr, 2, error=0.005, maxiter=1000\n",
    "    )\n",
    "    predicted_cluster = np.argmax(predicted_membership[0])\n",
    "    \n",
    "    # Forecast using the corresponding ARIMA model\n",
    "    forecast = arima_models[predicted_cluster].get_forecast(steps=1)\n",
    "    forecast_mean = forecast.predicted_mean[0]\n",
    "    ensemble_forecast.append(forecast_mean)"
   ]
  },
  {
   "cell_type": "code",
   "execution_count": 41,
   "metadata": {},
   "outputs": [
    {
     "name": "stdout",
     "output_type": "stream",
     "text": [
      "MAE: 0.4546\n",
      "RMSE: 0.6545\n",
      "MSE: 0.4284\n"
     ]
    }
   ],
   "source": [
    "import math\n",
    "fuzzy_arima_mae = mean_absolute_error(test_data, ensemble_forecast)\n",
    "fuzzy_arima_rmse = math.sqrt(mean_squared_error(test_data, ensemble_forecast))\n",
    "fuzzy_arima_mse = mean_squared_error(test_data, ensemble_forecast)\n",
    "\n",
    "print(f\"MAE: {fuzzy_arima_mae:.4f}\")\n",
    "print(f\"RMSE: {fuzzy_arima_rmse:.4f}\")\n",
    "print(f\"MSE: {fuzzy_arima_mse:.4f}\")"
   ]
  },
  {
   "cell_type": "code",
   "execution_count": 42,
   "metadata": {},
   "outputs": [
    {
     "data": {
      "image/png": "[encoded data removed]",
      "text/plain": [
       "<Figure size 1200x600 with 1 Axes>"
      ]
     },
     "metadata": {},
     "output_type": "display_data"
    }
   ],
   "source": [
    "ensemble_forecast = np.array(ensemble_forecast)\n",
    "\n",
    "# Plotting the predicted values and actual test data\n",
    "plt.figure(figsize=(12, 6))\n",
    "plt.plot(test_data.reshape(-1,1), label='Actual Test Data', color='blue')\n",
    "plt.plot(ensemble_forecast, label='Ensemble Forecast', color='orange', linestyle='dashed')\n",
    "plt.xlabel('Time')\n",
    "plt.ylabel('Returns')\n",
    "plt.title('Ensemble Forecast vs Actual Test Data')\n",
    "plt.legend()\n",
    "plt.show()"
   ]
  },
  {
   "cell_type": "code",
   "execution_count": 43,
   "metadata": {},
   "outputs": [],
   "source": [
    "fuzzy_arima_metrics = pd.DataFrame([{\"Model Name\": \"FUZZY-ARIMA\",\n",
    "    \"RMSE\": fuzzy_arima_rmse,\n",
    "    \"MSE\": fuzzy_arima_mse,\n",
    "    \"MAE\": fuzzy_arima_mae}])"
   ]
  },
  {
   "cell_type": "code",
   "execution_count": 44,
   "metadata": {},
   "outputs": [
    {
     "data": {
      "text/html": [
       "<div>\n",
       "<style scoped>\n",
       "    .dataframe tbody tr th:only-of-type {\n",
       "        vertical-align: middle;\n",
       "    }\n",
       "\n",
       "    .dataframe tbody tr th {\n",
       "        vertical-align: top;\n",
       "    }\n",
       "\n",
       "    .dataframe thead th {\n",
       "        text-align: right;\n",
       "    }\n",
       "</style>\n",
       "<table border=\"1\" class=\"dataframe\">\n",
       "  <thead>\n",
       "    <tr style=\"text-align: right;\">\n",
       "      <th></th>\n",
       "      <th>Model Name</th>\n",
       "      <th>RMSE</th>\n",
       "      <th>MSE</th>\n",
       "      <th>MAE</th>\n",
       "    </tr>\n",
       "  </thead>\n",
       "  <tbody>\n",
       "    <tr>\n",
       "      <th>0</th>\n",
       "      <td>ARMA(1,0,1)</td>\n",
       "      <td>0.016316</td>\n",
       "      <td>0.000266</td>\n",
       "      <td>0.011666</td>\n",
       "    </tr>\n",
       "    <tr>\n",
       "      <th>1</th>\n",
       "      <td>ARMA_ANN</td>\n",
       "      <td>0.014815</td>\n",
       "      <td>0.000219</td>\n",
       "      <td>0.010795</td>\n",
       "    </tr>\n",
       "    <tr>\n",
       "      <th>2</th>\n",
       "      <td>GARCH(1,1)</td>\n",
       "      <td>0.022628</td>\n",
       "      <td>0.000512</td>\n",
       "      <td>0.018593</td>\n",
       "    </tr>\n",
       "    <tr>\n",
       "      <th>3</th>\n",
       "      <td>ARMA-GARCH</td>\n",
       "      <td>0.022628</td>\n",
       "      <td>0.000512</td>\n",
       "      <td>0.018584</td>\n",
       "    </tr>\n",
       "    <tr>\n",
       "      <th>4</th>\n",
       "      <td>ARMA-GARCH-ANN</td>\n",
       "      <td>0.014932</td>\n",
       "      <td>0.000223</td>\n",
       "      <td>0.010846</td>\n",
       "    </tr>\n",
       "    <tr>\n",
       "      <th>5</th>\n",
       "      <td>FUZZY-ARIMA</td>\n",
       "      <td>0.654525</td>\n",
       "      <td>0.428403</td>\n",
       "      <td>0.454631</td>\n",
       "    </tr>\n",
       "  </tbody>\n",
       "</table>\n",
       "</div>"
      ],
      "text/plain": [
       "       Model Name      RMSE       MSE       MAE\n",
       "0     ARMA(1,0,1)  0.016316  0.000266  0.011666\n",
       "1        ARMA_ANN  0.014815  0.000219  0.010795\n",
       "2      GARCH(1,1)  0.022628  0.000512  0.018593\n",
       "3      ARMA-GARCH  0.022628  0.000512  0.018584\n",
       "4  ARMA-GARCH-ANN  0.014932  0.000223  0.010846\n",
       "5     FUZZY-ARIMA  0.654525  0.428403  0.454631"
      ]
     },
     "execution_count": 44,
     "metadata": {},
     "output_type": "execute_result"
    }
   ],
   "source": [
    "Metrics_DF = pd.concat([Metrics_DF,fuzzy_arima_metrics], ignore_index= True)\n",
    "Metrics_DF"
   ]
  },
  {
   "cell_type": "markdown",
   "metadata": {},
   "source": [
    "> # `L.S.T.M `"
   ]
  },
  {
   "cell_type": "code",
   "execution_count": 21,
   "metadata": {},
   "outputs": [],
   "source": [
    "data_training=pd.DataFrame(main_data[\"Close\"][0:int(len(main_data)*0.80)])\n",
    "data_test=pd.DataFrame(main_data['Close'][int(len(main_data)*0.80):int(len(main_data))])"
   ]
  },
  {
   "cell_type": "code",
   "execution_count": 22,
   "metadata": {},
   "outputs": [],
   "source": [
    "from sklearn.preprocessing import MinMaxScaler\n",
    "scaler=MinMaxScaler(feature_range=(0,1))"
   ]
  },
  {
   "cell_type": "code",
   "execution_count": 23,
   "metadata": {},
   "outputs": [
    {
     "data": {
      "text/plain": [
       "array([[0.11831037],\n",
       "       [0.11455164],\n",
       "       [0.10873456],\n",
       "       ...,\n",
       "       [0.9881868 ],\n",
       "       [0.9982996 ],\n",
       "       [0.98935026]])"
      ]
     },
     "execution_count": 23,
     "metadata": {},
     "output_type": "execute_result"
    }
   ],
   "source": [
    "data_training_array=scaler.fit_transform(data_training)\n",
    "data_training_array"
   ]
  },
  {
   "cell_type": "code",
   "execution_count": 24,
   "metadata": {},
   "outputs": [
    {
     "data": {
      "text/plain": [
       "(2596, 1)"
      ]
     },
     "execution_count": 24,
     "metadata": {},
     "output_type": "execute_result"
    }
   ],
   "source": [
    "data_training_array.shape"
   ]
  },
  {
   "cell_type": "code",
   "execution_count": 25,
   "metadata": {},
   "outputs": [],
   "source": [
    "x_train=[]\n",
    "y_train=[]\n",
    "\n",
    "for i in range(100,data_training_array.shape[0]):\n",
    "        x_train.append(data_training_array[i-100:i])\n",
    "        y_train.append(data_training_array[i,0])\n",
    "x_train,y_train=np.array(x_train),np.array(y_train)"
   ]
  },
  {
   "cell_type": "code",
   "execution_count": 26,
   "metadata": {},
   "outputs": [],
   "source": [
    "from keras.layers import Dense,Dropout,LSTM\n",
    "from keras.models import Sequential"
   ]
  },
  {
   "cell_type": "code",
   "execution_count": 27,
   "metadata": {},
   "outputs": [],
   "source": [
    "model=Sequential()\n",
    "model.add(LSTM(units=40,activation='relu',return_sequences=True,input_shape=(x_train.shape[1],1)))\n",
    "model.add(Dropout(0.2))\n",
    "\n",
    "model.add(LSTM(units=50,activation='relu'))\n",
    "model.add(Dropout(0.3))\n",
    "\n",
    "model.add(Dense(units=25))\n",
    "model.add(Dense(units=1))"
   ]
  },
  {
   "cell_type": "code",
   "execution_count": 28,
   "metadata": {},
   "outputs": [
    {
     "name": "stdout",
     "output_type": "stream",
     "text": [
      "Model: \"sequential_1\"\n",
      "_________________________________________________________________\n",
      " Layer (type)                Output Shape              Param #   \n",
      "=================================================================\n",
      " lstm_2 (LSTM)               (None, 100, 40)           6720      \n",
      "                                                                 \n",
      " dropout_2 (Dropout)         (None, 100, 40)           0         \n",
      "                                                                 \n",
      " lstm_3 (LSTM)               (None, 50)                18200     \n",
      "                                                                 \n",
      " dropout_3 (Dropout)         (None, 50)                0         \n",
      "                                                                 \n",
      " dense_2 (Dense)             (None, 25)                1275      \n",
      "                                                                 \n",
      " dense_3 (Dense)             (None, 1)                 26        \n",
      "                                                                 \n",
      "=================================================================\n",
      "Total params: 26,221\n",
      "Trainable params: 26,221\n",
      "Non-trainable params: 0\n",
      "_________________________________________________________________\n"
     ]
    }
   ],
   "source": [
    "model.summary()"
   ]
  },
  {
   "cell_type": "code",
   "execution_count": 29,
   "metadata": {},
   "outputs": [],
   "source": [
    "model.compile( optimizer='adam',loss='mean_squared_error')"
   ]
  },
  {
   "cell_type": "code",
   "execution_count": 30,
   "metadata": {},
   "outputs": [
    {
     "name": "stdout",
     "output_type": "stream",
     "text": [
      "Epoch 1/100\n"
     ]
    },
    {
     "name": "stdout",
     "output_type": "stream",
     "text": [
      "63/63 [==============================] - 7s 69ms/step - loss: 0.0327 - val_loss: 0.0027\n",
      "Epoch 2/100\n",
      "63/63 [==============================] - 4s 65ms/step - loss: 0.0047 - val_loss: 0.0031\n",
      "Epoch 3/100\n",
      "63/63 [==============================] - 4s 65ms/step - loss: 0.0042 - val_loss: 0.0026\n",
      "Epoch 4/100\n",
      "63/63 [==============================] - 4s 64ms/step - loss: 0.0035 - val_loss: 0.0029\n",
      "Epoch 5/100\n",
      "63/63 [==============================] - 4s 64ms/step - loss: 0.0033 - val_loss: 0.0029\n",
      "Epoch 6/100\n",
      "63/63 [==============================] - 4s 64ms/step - loss: 0.0029 - val_loss: 0.0028\n",
      "Epoch 7/100\n",
      "63/63 [==============================] - 4s 64ms/step - loss: 0.0028 - val_loss: 0.0023\n",
      "Epoch 8/100\n",
      "63/63 [==============================] - 4s 64ms/step - loss: 0.0027 - val_loss: 0.0025\n",
      "Epoch 9/100\n",
      "63/63 [==============================] - 4s 64ms/step - loss: 0.0026 - val_loss: 0.0030\n",
      "Epoch 10/100\n",
      "63/63 [==============================] - 4s 65ms/step - loss: 0.0025 - val_loss: 0.0025\n",
      "Epoch 11/100\n",
      "63/63 [==============================] - 4s 64ms/step - loss: 0.0024 - val_loss: 0.0028\n",
      "Epoch 12/100\n",
      "63/63 [==============================] - 4s 65ms/step - loss: 0.0023 - val_loss: 0.0028\n",
      "Epoch 13/100\n",
      "63/63 [==============================] - 4s 65ms/step - loss: 0.0023 - val_loss: 0.0037\n",
      "Epoch 14/100\n",
      "63/63 [==============================] - 4s 66ms/step - loss: 0.0023 - val_loss: 0.0020\n",
      "Epoch 15/100\n",
      "63/63 [==============================] - 4s 65ms/step - loss: 0.0023 - val_loss: 0.0020\n",
      "Epoch 16/100\n",
      "63/63 [==============================] - 4s 65ms/step - loss: 0.0021 - val_loss: 0.0022\n",
      "Epoch 17/100\n",
      "63/63 [==============================] - 4s 65ms/step - loss: 0.0021 - val_loss: 0.0021\n",
      "Epoch 18/100\n",
      "63/63 [==============================] - 4s 66ms/step - loss: 0.0023 - val_loss: 0.0029\n",
      "Epoch 19/100\n",
      "63/63 [==============================] - 4s 66ms/step - loss: 0.0022 - val_loss: 0.0020\n",
      "Epoch 20/100\n",
      "63/63 [==============================] - 4s 67ms/step - loss: 0.0022 - val_loss: 0.0022\n",
      "Epoch 21/100\n",
      "63/63 [==============================] - 4s 65ms/step - loss: 0.0021 - val_loss: 0.0026\n",
      "Epoch 22/100\n",
      "63/63 [==============================] - 4s 65ms/step - loss: 0.0020 - val_loss: 0.0020\n",
      "Epoch 23/100\n",
      "63/63 [==============================] - 4s 65ms/step - loss: 0.0020 - val_loss: 0.0018\n",
      "Epoch 24/100\n",
      "63/63 [==============================] - 4s 65ms/step - loss: 0.0021 - val_loss: 0.0021\n",
      "Epoch 25/100\n",
      "63/63 [==============================] - 4s 65ms/step - loss: 0.0020 - val_loss: 0.0028\n",
      "Epoch 26/100\n",
      "63/63 [==============================] - 4s 65ms/step - loss: 0.0020 - val_loss: 0.0018\n",
      "Epoch 27/100\n",
      "63/63 [==============================] - 4s 65ms/step - loss: 0.0021 - val_loss: 0.0021\n",
      "Epoch 28/100\n",
      "63/63 [==============================] - 4s 66ms/step - loss: 0.0021 - val_loss: 0.0016\n",
      "Epoch 29/100\n",
      "63/63 [==============================] - 4s 65ms/step - loss: 0.0021 - val_loss: 0.0021\n",
      "Epoch 30/100\n",
      "63/63 [==============================] - 4s 65ms/step - loss: 0.0021 - val_loss: 0.0018\n",
      "Epoch 31/100\n",
      "63/63 [==============================] - 4s 65ms/step - loss: 0.0020 - val_loss: 0.0023\n",
      "Epoch 32/100\n",
      "63/63 [==============================] - 4s 65ms/step - loss: 0.0020 - val_loss: 0.0023\n",
      "Epoch 33/100\n",
      "63/63 [==============================] - 4s 65ms/step - loss: 0.0021 - val_loss: 0.0021\n",
      "Epoch 34/100\n",
      "63/63 [==============================] - 4s 65ms/step - loss: 0.0020 - val_loss: 0.0016\n",
      "Epoch 35/100\n",
      "63/63 [==============================] - 4s 65ms/step - loss: 0.0019 - val_loss: 0.0025\n",
      "Epoch 36/100\n",
      "63/63 [==============================] - 4s 65ms/step - loss: 0.0020 - val_loss: 0.0014\n",
      "Epoch 37/100\n",
      "63/63 [==============================] - 4s 66ms/step - loss: 0.0019 - val_loss: 0.0016\n",
      "Epoch 38/100\n",
      "63/63 [==============================] - 4s 65ms/step - loss: 0.0020 - val_loss: 0.0025\n",
      "Epoch 39/100\n",
      "63/63 [==============================] - 4s 66ms/step - loss: 0.0019 - val_loss: 0.0013\n",
      "Epoch 40/100\n",
      "63/63 [==============================] - 4s 65ms/step - loss: 0.0019 - val_loss: 0.0020\n",
      "Epoch 41/100\n",
      "63/63 [==============================] - 4s 65ms/step - loss: 0.0018 - val_loss: 0.0026\n",
      "Epoch 42/100\n",
      "63/63 [==============================] - 4s 64ms/step - loss: 0.0019 - val_loss: 0.0013\n",
      "Epoch 43/100\n",
      "63/63 [==============================] - 4s 65ms/step - loss: 0.0018 - val_loss: 0.0015\n",
      "Epoch 44/100\n",
      "63/63 [==============================] - 4s 65ms/step - loss: 0.0018 - val_loss: 0.0020\n",
      "Epoch 45/100\n",
      "63/63 [==============================] - 4s 65ms/step - loss: 0.0019 - val_loss: 0.0014\n",
      "Epoch 46/100\n",
      "63/63 [==============================] - 4s 65ms/step - loss: 0.0020 - val_loss: 0.0017\n",
      "Epoch 47/100\n",
      "63/63 [==============================] - 4s 65ms/step - loss: 0.0019 - val_loss: 0.0012\n",
      "Epoch 48/100\n",
      "63/63 [==============================] - 4s 65ms/step - loss: 0.0019 - val_loss: 0.0020\n",
      "Epoch 49/100\n",
      "63/63 [==============================] - 4s 65ms/step - loss: 0.0020 - val_loss: 0.0021\n",
      "Epoch 50/100\n",
      "63/63 [==============================] - 4s 65ms/step - loss: 0.0019 - val_loss: 0.0014\n",
      "Epoch 51/100\n",
      "63/63 [==============================] - 4s 66ms/step - loss: 0.0021 - val_loss: 0.0014\n",
      "Epoch 52/100\n",
      "63/63 [==============================] - 4s 65ms/step - loss: 0.0018 - val_loss: 0.0022\n",
      "Epoch 53/100\n",
      "63/63 [==============================] - 4s 65ms/step - loss: 0.0019 - val_loss: 0.0023\n",
      "Epoch 54/100\n",
      "63/63 [==============================] - 4s 66ms/step - loss: 0.0018 - val_loss: 0.0017\n",
      "Epoch 55/100\n",
      "63/63 [==============================] - 4s 65ms/step - loss: 0.0018 - val_loss: 0.0014\n",
      "Epoch 56/100\n",
      "63/63 [==============================] - 4s 65ms/step - loss: 0.0018 - val_loss: 0.0012\n",
      "Epoch 57/100\n",
      "63/63 [==============================] - 4s 65ms/step - loss: 0.0020 - val_loss: 0.0014\n",
      "Epoch 58/100\n",
      "63/63 [==============================] - 4s 65ms/step - loss: 0.0020 - val_loss: 0.0035\n",
      "Epoch 59/100\n",
      "63/63 [==============================] - 4s 65ms/step - loss: 0.0020 - val_loss: 0.0016\n",
      "Epoch 60/100\n",
      "63/63 [==============================] - 4s 64ms/step - loss: 0.0018 - val_loss: 0.0017\n",
      "Epoch 61/100\n",
      "63/63 [==============================] - 4s 65ms/step - loss: 0.0019 - val_loss: 0.0011\n",
      "Epoch 62/100\n",
      "63/63 [==============================] - 4s 65ms/step - loss: 0.0018 - val_loss: 0.0019\n",
      "Epoch 63/100\n",
      "63/63 [==============================] - 4s 65ms/step - loss: 0.0018 - val_loss: 0.0011\n",
      "Epoch 64/100\n",
      "63/63 [==============================] - 4s 65ms/step - loss: 0.0019 - val_loss: 0.0019\n",
      "Epoch 65/100\n",
      "63/63 [==============================] - 4s 65ms/step - loss: 0.0019 - val_loss: 0.0018\n",
      "Epoch 66/100\n",
      "63/63 [==============================] - 4s 65ms/step - loss: 0.0020 - val_loss: 0.0012\n",
      "Epoch 67/100\n",
      "63/63 [==============================] - 4s 65ms/step - loss: 0.0018 - val_loss: 0.0021\n",
      "Epoch 68/100\n",
      "63/63 [==============================] - 4s 65ms/step - loss: 0.0020 - val_loss: 0.0016\n",
      "Epoch 69/100\n",
      "63/63 [==============================] - 4s 65ms/step - loss: 0.0020 - val_loss: 0.0017\n",
      "Epoch 70/100\n",
      "63/63 [==============================] - 4s 65ms/step - loss: 0.0018 - val_loss: 0.0024\n",
      "Epoch 71/100\n",
      "63/63 [==============================] - 4s 65ms/step - loss: 0.0018 - val_loss: 0.0010\n",
      "Epoch 72/100\n",
      "63/63 [==============================] - 4s 65ms/step - loss: 0.0018 - val_loss: 0.0017\n",
      "Epoch 73/100\n",
      "63/63 [==============================] - 4s 65ms/step - loss: 0.0019 - val_loss: 0.0014\n",
      "Epoch 74/100\n",
      "63/63 [==============================] - 4s 65ms/step - loss: 0.0019 - val_loss: 0.0013\n",
      "Epoch 75/100\n",
      "63/63 [==============================] - 4s 65ms/step - loss: 0.0018 - val_loss: 0.0014\n",
      "Epoch 76/100\n",
      "63/63 [==============================] - 4s 65ms/step - loss: 0.0019 - val_loss: 0.0022\n",
      "Epoch 77/100\n",
      "63/63 [==============================] - 4s 67ms/step - loss: 0.0018 - val_loss: 9.8734e-04\n",
      "Epoch 78/100\n",
      "63/63 [==============================] - 4s 65ms/step - loss: 0.0018 - val_loss: 0.0020\n",
      "Epoch 79/100\n",
      "63/63 [==============================] - 4s 69ms/step - loss: 0.0018 - val_loss: 0.0021\n",
      "Epoch 80/100\n",
      "63/63 [==============================] - 4s 68ms/step - loss: 0.0019 - val_loss: 0.0010\n",
      "Epoch 81/100\n",
      "63/63 [==============================] - 4s 65ms/step - loss: 0.0018 - val_loss: 9.7840e-04\n",
      "Epoch 82/100\n",
      "63/63 [==============================] - 4s 65ms/step - loss: 0.0016 - val_loss: 8.9395e-04\n",
      "Epoch 83/100\n",
      "63/63 [==============================] - 4s 65ms/step - loss: 0.0017 - val_loss: 0.0016\n",
      "Epoch 84/100\n",
      "63/63 [==============================] - 4s 65ms/step - loss: 0.0017 - val_loss: 0.0014\n",
      "Epoch 85/100\n",
      "63/63 [==============================] - 4s 65ms/step - loss: 0.0019 - val_loss: 0.0011\n",
      "Epoch 86/100\n",
      "63/63 [==============================] - 4s 65ms/step - loss: 0.0017 - val_loss: 0.0014\n",
      "Epoch 87/100\n",
      "63/63 [==============================] - 4s 65ms/step - loss: 0.0018 - val_loss: 0.0015\n",
      "Epoch 88/100\n",
      "63/63 [==============================] - 4s 65ms/step - loss: 0.0018 - val_loss: 0.0022\n",
      "Epoch 89/100\n",
      "63/63 [==============================] - 4s 65ms/step - loss: 0.0017 - val_loss: 0.0016\n",
      "Epoch 90/100\n",
      "63/63 [==============================] - 4s 65ms/step - loss: 0.0019 - val_loss: 0.0018\n",
      "Epoch 91/100\n",
      "63/63 [==============================] - 4s 65ms/step - loss: 0.0018 - val_loss: 0.0013\n",
      "Epoch 92/100\n",
      "63/63 [==============================] - 4s 64ms/step - loss: 0.0017 - val_loss: 0.0016\n",
      "Epoch 93/100\n",
      "63/63 [==============================] - 4s 64ms/step - loss: 0.0017 - val_loss: 0.0010\n",
      "Epoch 94/100\n",
      "63/63 [==============================] - 4s 67ms/step - loss: 0.0016 - val_loss: 0.0012\n",
      "Epoch 95/100\n",
      "63/63 [==============================] - 4s 65ms/step - loss: 0.0018 - val_loss: 0.0011\n",
      "Epoch 96/100\n",
      "63/63 [==============================] - 4s 65ms/step - loss: 0.0018 - val_loss: 0.0011\n",
      "Epoch 97/100\n",
      "63/63 [==============================] - 4s 65ms/step - loss: 0.0018 - val_loss: 9.2175e-04\n",
      "Epoch 98/100\n",
      "63/63 [==============================] - 4s 65ms/step - loss: 0.0016 - val_loss: 0.0010\n",
      "Epoch 99/100\n",
      "63/63 [==============================] - 4s 64ms/step - loss: 0.0018 - val_loss: 0.0019\n",
      "Epoch 100/100\n",
      "63/63 [==============================] - 4s 64ms/step - loss: 0.0018 - val_loss: 0.0015\n"
     ]
    },
    {
     "data": {
      "text/plain": [
       "<keras.callbacks.History at 0x2256a39bf40>"
      ]
     },
     "execution_count": 30,
     "metadata": {},
     "output_type": "execute_result"
    }
   ],
   "source": [
    "\n",
    "model.fit(x_train,y_train,epochs=100,validation_split=0.2)"
   ]
  },
  {
   "cell_type": "code",
   "execution_count": 31,
   "metadata": {},
   "outputs": [],
   "source": [
    "model.save('CIPLA.h5')"
   ]
  },
  {
   "cell_type": "code",
   "execution_count": 43,
   "metadata": {},
   "outputs": [
    {
     "name": "stderr",
     "output_type": "stream",
     "text": [
      "C:\\Users\\chakr\\AppData\\Local\\Temp\\ipykernel_4496\\60233251.py:2: FutureWarning: The frame.append method is deprecated and will be removed from pandas in a future version. Use pandas.concat instead.\n",
      "  final_df=past_100_days.append(data_test,ignore_index=True)\n"
     ]
    }
   ],
   "source": [
    "past_100_days=data_training.tail(100)\n",
    "final_df=past_100_days.append(data_test,ignore_index=True)"
   ]
  },
  {
   "cell_type": "code",
   "execution_count": 44,
   "metadata": {},
   "outputs": [],
   "source": [
    "input_data=scaler.fit_transform(final_df)"
   ]
  },
  {
   "cell_type": "code",
   "execution_count": 45,
   "metadata": {},
   "outputs": [],
   "source": [
    "x_test=[]\n",
    "y_test=[]\n",
    "\n",
    "for i in range(100,input_data.shape[0]):\n",
    "        x_test.append(input_data[i-100:i])\n",
    "        y_test.append(input_data[i,0])\n",
    "x_test,y_test=np.array(x_test),np.array(y_test)"
   ]
  },
  {
   "cell_type": "code",
   "execution_count": 46,
   "metadata": {},
   "outputs": [
    {
     "name": "stdout",
     "output_type": "stream",
     "text": [
      "21/21 [==============================] - 0s 21ms/step\n"
     ]
    }
   ],
   "source": [
    "y_predicted=model.predict(x_test)"
   ]
  },
  {
   "cell_type": "code",
   "execution_count": 48,
   "metadata": {},
   "outputs": [],
   "source": [
    "y_predicted=scaler.inverse_transform(y_predicted)\n",
    "y_test=scaler.inverse_transform(y_test.reshape(-1,1))"
   ]
  },
  {
   "cell_type": "code",
   "execution_count": 49,
   "metadata": {},
   "outputs": [
    {
     "data": {
      "image/png": "[encoded data removed]",
      "text/plain": [
       "<Figure size 1200x600 with 1 Axes>"
      ]
     },
     "metadata": {},
     "output_type": "display_data"
    }
   ],
   "source": [
    "plt.figure(figsize=(12,6))\n",
    "plt.plot(y_test,'b',label='original price')\n",
    "plt.plot(y_predicted,'r',label='Predicted Price')\n",
    "plt.xlabel('Time')\n",
    "plt.ylabel('Price')\n",
    "plt.legend()\n",
    "plt.show()"
   ]
  },
  {
   "cell_type": "code",
   "execution_count": 51,
   "metadata": {},
   "outputs": [
    {
     "name": "stdout",
     "output_type": "stream",
     "text": [
      "Mean absolute error : 14.350253300600684\n",
      "Root Mean squared error : 20.159838338169976\n"
     ]
    }
   ],
   "source": [
    "from sklearn.metrics import mean_absolute_error as mae\n",
    "from sklearn.metrics import mean_squared_error as mse\n",
    "\n",
    "  \n",
    "# calculate MAE,MSE,RMSE\n",
    "error1 = mae(y_test, y_predicted)\n",
    "error2=mse(y_test,y_predicted)\n",
    "error3=np.sqrt(error2)\n",
    "\n",
    "  \n",
    "# display\n",
    "print(\"Mean absolute error : \" + str(error1))\n",
    "\n",
    "print(\"Root Mean squared error : \" + str(error3))"
   ]
  },
  {
   "cell_type": "markdown",
   "metadata": {},
   "source": [
    "> # `*Hybrid ARMA-GARCH & LSTM approach*`"
   ]
  },
  {
   "cell_type": "markdown",
   "metadata": {},
   "source": []
  }
 ],
 "metadata": {
  "kernelspec": {
   "display_name": "Python 3",
   "language": "python",
   "name": "python3"
  },
  "language_info": {
   "codemirror_mode": {
    "name": "ipython",
    "version": 3
   },
   "file_extension": ".py",
   "mimetype": "text/x-python",
   "name": "python",
   "nbconvert_exporter": "python",
   "pygments_lexer": "ipython3",
   "version": "3.10.9"
  },
  "orig_nbformat": 4
 },
 "nbformat": 4,
 "nbformat_minor": 2
}
